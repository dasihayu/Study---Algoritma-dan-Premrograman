{
  "nbformat": 4,
  "nbformat_minor": 0,
  "metadata": {
    "colab": {
      "provenance": [],
      "authorship_tag": "ABX9TyPHUHtz98kF/Ou8nNkwfZ9S",
      "include_colab_link": true
    },
    "kernelspec": {
      "name": "python3",
      "display_name": "Python 3"
    },
    "language_info": {
      "name": "python"
    }
  },
  "cells": [
    {
      "cell_type": "markdown",
      "metadata": {
        "id": "view-in-github",
        "colab_type": "text"
      },
      "source": [
        "<a href=\"https://colab.research.google.com/github/dasihayu/Study---Algoritma-dan-Premrograman/blob/main/Jobsheet_5.ipynb\" target=\"_parent\"><img src=\"https://colab.research.google.com/assets/colab-badge.svg\" alt=\"Open In Colab\"/></a>"
      ]
    },
    {
      "cell_type": "markdown",
      "source": [
        "**Praktikum 1 -Indexing dan Slicing**"
      ],
      "metadata": {
        "id": "28UmkGYXCKs6"
      }
    },
    {
      "cell_type": "code",
      "execution_count": 1,
      "metadata": {
        "colab": {
          "base_uri": "https://localhost:8080/"
        },
        "id": "1w8w76nWBsPN",
        "outputId": "ac04fee7-d866-419f-94e7-51fa0b23d6e0"
      },
      "outputs": [
        {
          "output_type": "stream",
          "name": "stdout",
          "text": [
            "P\n",
            "g\n",
            "Politeknik\n",
            "Negeri\n",
            "Politekni\n",
            " Negeri Semarang\n"
          ]
        }
      ],
      "source": [
        "teks = \"Politeknik Negeri Semarang\"\n",
        "\n",
        "# Indexing\n",
        "print(teks[0])\n",
        "print(teks[-1])\n",
        "\n",
        "# Slicing\n",
        "print(teks[0:10])\n",
        "print(teks[11:17])\n",
        "print(teks[:9])\n",
        "print(teks[10:])"
      ]
    },
    {
      "cell_type": "markdown",
      "source": [
        "**Praktikum 2 - Method Bawaan String**"
      ],
      "metadata": {
        "id": "-cZF3nixC0dB"
      }
    },
    {
      "cell_type": "code",
      "source": [
        "teks = \"Politeknik Negeri Semarang\"\n",
        "\n",
        "print(teks.strip())\n",
        "print(teks.upper())\n",
        "print(teks.lower())\n",
        "print(teks.replace(\"Semarang\", \"Bandung\"))\n",
        "print(teks.count(\"e\"))"
      ],
      "metadata": {
        "colab": {
          "base_uri": "https://localhost:8080/"
        },
        "id": "UbtI0AWvC3Sh",
        "outputId": "d340a74c-c5ab-4711-8be3-2cc042649358"
      },
      "execution_count": 2,
      "outputs": [
        {
          "output_type": "stream",
          "name": "stdout",
          "text": [
            "Politeknik Negeri Semarang\n",
            "POLITEKNIK NEGERI SEMARANG\n",
            "politeknik negeri semarang\n",
            "Politeknik Negeri Bandung\n",
            "4\n"
          ]
        }
      ]
    },
    {
      "cell_type": "markdown",
      "source": [
        "**Praktikum 3.1 - Validasi Password (python123)**"
      ],
      "metadata": {
        "id": "ofGNiwX8DL9a"
      }
    },
    {
      "cell_type": "code",
      "source": [
        "password = input(\"Masukkan password: \")\n",
        "\n",
        "if password == \"python123\":\n",
        "  print(\"Password benar! Akses diterima.\")\n",
        "else:\n",
        "  print(\"Password salah! Akses ditolak.\")"
      ],
      "metadata": {
        "colab": {
          "base_uri": "https://localhost:8080/"
        },
        "id": "5sUgX11ODRcd",
        "outputId": "63f09b9d-9a8d-4a37-f0ca-203286b48451"
      },
      "execution_count": 3,
      "outputs": [
        {
          "output_type": "stream",
          "name": "stdout",
          "text": [
            "Masukkan password: python123\n",
            "Password benar! Akses diterima.\n"
          ]
        }
      ]
    },
    {
      "cell_type": "markdown",
      "source": [
        "**Praktikum 3.1 - Validasi Password (abc)**"
      ],
      "metadata": {
        "id": "jlzjRXoDDnLw"
      }
    },
    {
      "cell_type": "code",
      "source": [
        "password = input(\"Masukkan password: \")\n",
        "\n",
        "if password == \"python123\":\n",
        "  print(\"Password benar! Akses diterima.\")\n",
        "else:\n",
        "  print(\"Password salah! Akses ditolak.\")"
      ],
      "metadata": {
        "colab": {
          "base_uri": "https://localhost:8080/"
        },
        "id": "u4uRwM8TDqSm",
        "outputId": "870364ca-a299-40f8-a814-2c7d2e8bd384"
      },
      "execution_count": 4,
      "outputs": [
        {
          "output_type": "stream",
          "name": "stdout",
          "text": [
            "Masukkan password: abc\n",
            "Password salah! Akses ditolak.\n"
          ]
        }
      ]
    },
    {
      "cell_type": "markdown",
      "source": [
        "**Praktikum 4 - String Fromatting dengan FString**"
      ],
      "metadata": {
        "id": "xpkx5qR5D4fh"
      }
    },
    {
      "cell_type": "code",
      "source": [
        "nama = \"Budi\"\n",
        "umur = 21\n",
        "\n",
        "print(f\"Nama saya {nama}, umur saya {umur} tahun.\")"
      ],
      "metadata": {
        "colab": {
          "base_uri": "https://localhost:8080/"
        },
        "id": "j7X9GWrfD71J",
        "outputId": "45ba5e44-d84f-4234-f17e-f8c0966bb312"
      },
      "execution_count": 5,
      "outputs": [
        {
          "output_type": "stream",
          "name": "stdout",
          "text": [
            "Nama saya Budi, umur saya 21 tahun.\n"
          ]
        }
      ]
    },
    {
      "cell_type": "markdown",
      "source": [
        "**Praktikum 5 - Operasi dalam FString**"
      ],
      "metadata": {
        "id": "7E5J-QOZEKy4"
      }
    },
    {
      "cell_type": "code",
      "source": [
        "a = 10\n",
        "b = 3\n",
        "\n",
        "print(f\"Hasil penjumlahan: {a + b}\")\n",
        "print(f\"Hasil pembagian: {a / b:.2f}\")\n",
        "print(f\"Hasil pangkat: {a ** b}\")"
      ],
      "metadata": {
        "colab": {
          "base_uri": "https://localhost:8080/"
        },
        "id": "-An_vaLZERgp",
        "outputId": "f728c2a4-8862-4eb7-cc8f-118f64d3daf0"
      },
      "execution_count": 6,
      "outputs": [
        {
          "output_type": "stream",
          "name": "stdout",
          "text": [
            "Hasil penjumlahan: 13\n",
            "Hasil pembagian: 3.33\n",
            "Hasil pangkat: 1000\n"
          ]
        }
      ]
    },
    {
      "cell_type": "markdown",
      "source": [
        "**Praktikum 6 - Casting String**"
      ],
      "metadata": {
        "id": "xu-R5PnCEoTd"
      }
    },
    {
      "cell_type": "code",
      "source": [
        "angka = 123\n",
        "teks = \"456\"\n",
        "\n",
        "# int => str\n",
        "print(str(angka) + teks)\n",
        "\n",
        "# str => int\n",
        "print(angka + int(teks))"
      ],
      "metadata": {
        "colab": {
          "base_uri": "https://localhost:8080/"
        },
        "id": "2hcD2BtmEqpR",
        "outputId": "c8e91e30-f29b-41b5-ebbd-075ba99959e3"
      },
      "execution_count": 7,
      "outputs": [
        {
          "output_type": "stream",
          "name": "stdout",
          "text": [
            "123456\n",
            "579\n"
          ]
        }
      ]
    },
    {
      "cell_type": "markdown",
      "source": [
        "**Praktikum 7 - Studi Kasus: Analisis Kalimat**"
      ],
      "metadata": {
        "id": "V6FWFV5DFQoM"
      }
    },
    {
      "cell_type": "code",
      "source": [
        "kalimat = \"Saya kuliah di Politeknik Negeri Semarang\"\n",
        "\n",
        "print(\"Kalimat: \", kalimat)\n",
        "print(\"Jumlah karakter: \", len(kalimat))\n",
        "print(\"Jumlah kata: \", len(kalimat.split()))\n",
        "print(\"Apakah mengandung 'Politeknik'? ->\", \"Politeknik\" in kalimat)\n",
        "print(\"Posisi kata 'Negeri: \", kalimat.find(\"Negeri\"))"
      ],
      "metadata": {
        "colab": {
          "base_uri": "https://localhost:8080/"
        },
        "id": "dMHXuVtJFUYu",
        "outputId": "8f509283-aa12-462d-f220-cc4b7eb4793a"
      },
      "execution_count": 10,
      "outputs": [
        {
          "output_type": "stream",
          "name": "stdout",
          "text": [
            "Kalimat:  Saya kuliah di Politeknik Negeri Semarang\n",
            "Jumlah karakter:  41\n",
            "Jumlah kata:  6\n",
            "Apakah mengandung 'Politeknik'? -> True\n",
            "Posisi kata 'Negeri:  26\n"
          ]
        }
      ]
    },
    {
      "cell_type": "markdown",
      "source": [
        "***PENUGASAN***"
      ],
      "metadata": {
        "id": "Hkvg_2wzHkgw"
      }
    },
    {
      "cell_type": "markdown",
      "source": [
        "**Indexing dan Slicing**"
      ],
      "metadata": {
        "id": "-adwb_tqHoNl"
      }
    },
    {
      "cell_type": "code",
      "metadata": {
        "colab": {
          "base_uri": "https://localhost:8080/"
        },
        "id": "16a3418e",
        "outputId": "a8722c23-c841-4e48-9e70-7997d1448ce0"
      },
      "source": [
        "teks = \"Politeknik Negeri Semarang\"\n",
        "\n",
        "print(\"Huruf pertama:\", teks[0])\n",
        "print(\"Huruf terakhir:\", teks[-1])\n",
        "print(\"Kata 'Negeri':\", teks[11:17])"
      ],
      "execution_count": 11,
      "outputs": [
        {
          "output_type": "stream",
          "name": "stdout",
          "text": [
            "Huruf pertama: P\n",
            "Huruf terakhir: g\n",
            "Kata 'Negeri': Negeri\n"
          ]
        }
      ]
    },
    {
      "cell_type": "markdown",
      "source": [
        "**Manipulasi String**"
      ],
      "metadata": {
        "id": "HBq61xuZH-IZ"
      }
    },
    {
      "cell_type": "code",
      "metadata": {
        "colab": {
          "base_uri": "https://localhost:8080/"
        },
        "id": "4845395c",
        "outputId": "28eef2eb-5d47-424a-fb38-5eeb4edcb482"
      },
      "source": [
        "kalimat = input(\"Masukkan sebuah kalimat: \")\n",
        "\n",
        "print(\"Semua huruf kapital:\", kalimat.upper())\n",
        "print(\"Semua huruf kecil:\", kalimat.lower())\n",
        "print(\"Panjang kalimat:\", len(kalimat))"
      ],
      "execution_count": 12,
      "outputs": [
        {
          "output_type": "stream",
          "name": "stdout",
          "text": [
            "Masukkan sebuah kalimat: PoLiNeS\n",
            "Semua huruf kapital: POLINES\n",
            "Semua huruf kecil: polines\n",
            "Panjang kalimat: 7\n"
          ]
        }
      ]
    },
    {
      "cell_type": "markdown",
      "source": [
        "**Validasi Username**"
      ],
      "metadata": {
        "id": "zjurc2eKIaA2"
      }
    },
    {
      "cell_type": "code",
      "metadata": {
        "colab": {
          "base_uri": "https://localhost:8080/"
        },
        "id": "7ce5eede",
        "outputId": "ae278af9-7c76-4b56-a22b-a28b739b17b3"
      },
      "source": [
        "username = input(\"Masukkan username: \")\n",
        "\n",
        "if \" \" in username:\n",
        "  print(\"Error: Username tidak boleh mengandung spasi.\")\n",
        "else:\n",
        "  print(\"Username valid.\")"
      ],
      "execution_count": 13,
      "outputs": [
        {
          "output_type": "stream",
          "name": "stdout",
          "text": [
            "Masukkan username: Joko Susanto\n",
            "Error: Username tidak boleh mengandung spasi.\n"
          ]
        }
      ]
    },
    {
      "cell_type": "markdown",
      "source": [
        "**String Formatting dengan F-String**"
      ],
      "metadata": {
        "id": "Kl_s4TbAJBi5"
      }
    },
    {
      "cell_type": "code",
      "metadata": {
        "colab": {
          "base_uri": "https://localhost:8080/"
        },
        "id": "e059d0a1",
        "outputId": "717b9073-70d4-4e18-bbe7-2d9f980db379"
      },
      "source": [
        "nama = input(\"Masukkan nama: \")\n",
        "umur = input(\"Masukkan umur: \")\n",
        "jurusan = input(\"Masukkan jurusan: \")\n",
        "\n",
        "print(f\"Nama: {nama}\")\n",
        "print(f\"Umur: {umur}\")\n",
        "print(f\"Jurusan: {jurusan}\")"
      ],
      "execution_count": 14,
      "outputs": [
        {
          "output_type": "stream",
          "name": "stdout",
          "text": [
            "Masukkan nama: Andi\n",
            "Masukkan umur: 20\n",
            "Masukkan jurusan: Teknologi Rekayasa Komputer\n",
            "Nama: Andi\n",
            "Umur: 20\n",
            "Jurusan: Teknologi Rekayasa Komputer\n"
          ]
        }
      ]
    },
    {
      "cell_type": "markdown",
      "source": [
        "**Operasi dalam F-String**"
      ],
      "metadata": {
        "id": "S6Fr7XNWJGQh"
      }
    },
    {
      "cell_type": "code",
      "metadata": {
        "colab": {
          "base_uri": "https://localhost:8080/"
        },
        "id": "64484e01",
        "outputId": "60baf89a-9ca5-423d-f7f4-702969452fff"
      },
      "source": [
        "angka1 = float(input(\"Masukkan bilangan pertama: \"))\n",
        "angka2 = float(input(\"Masukkan bilangan kedua: \"))\n",
        "\n",
        "print(f\"Hasil penjumlahan: {angka1 + angka2}\")\n",
        "print(f\"Hasil perkalian: {angka1 * angka2}\")\n",
        "print(f\"Hasil pembagian: {angka1 / angka2:.3f}\")"
      ],
      "execution_count": 16,
      "outputs": [
        {
          "output_type": "stream",
          "name": "stdout",
          "text": [
            "Masukkan bilangan pertama: 12\n",
            "Masukkan bilangan kedua: 9\n",
            "Hasil penjumlahan: 21.0\n",
            "Hasil perkalian: 108.0\n",
            "Hasil pembagian: 1.333\n"
          ]
        }
      ]
    },
    {
      "cell_type": "markdown",
      "source": [
        "**Casting Data**"
      ],
      "metadata": {
        "id": "aYuagGUBJenO"
      }
    },
    {
      "cell_type": "code",
      "metadata": {
        "colab": {
          "base_uri": "https://localhost:8080/"
        },
        "id": "6795f7b5",
        "outputId": "929f9dd6-8039-4a15-f8ca-034a114d6cd0"
      },
      "source": [
        "angka_str = input(\"Masukkan sebuah angka (string): \")\n",
        "\n",
        "angka_int = int(angka_str)\n",
        "kuadrat = angka_int ** 2\n",
        "print(f\"Angka sebagai integer dan kuadratnya: {kuadrat}\")\n",
        "\n",
        "angka_float = float(angka_str)\n",
        "print(f\"Angka sebagai float dengan 2 angka di belakang koma: {angka_float:.2f}\")"
      ],
      "execution_count": 17,
      "outputs": [
        {
          "output_type": "stream",
          "name": "stdout",
          "text": [
            "Masukkan sebuah angka (string): 35\n",
            "Angka sebagai integer dan kuadratnya: 1225\n",
            "Angka sebagai float dengan 2 angka di belakang koma: 35.00\n"
          ]
        }
      ]
    },
    {
      "cell_type": "markdown",
      "source": [
        "**Studi Kasus - Analisis Teks**"
      ],
      "metadata": {
        "id": "c-YTbajjJ0LE"
      }
    },
    {
      "cell_type": "code",
      "source": [
        "kalimat = input(\"Masukkan sebuah kalimat: \")\n",
        "\n",
        "kata_kata = kalimat.split()\n",
        "jumlah_kata = len(kata_kata)\n",
        "kata_terpanjang = max(kata_kata, key=len)\n",
        "kata_urut = sorted(kata_kata)\n",
        "\n",
        "print(\"\\n=== HASIL ANALISIS ===\")\n",
        "print(f\"Jumlah kata             : {jumlah_kata}\")\n",
        "print(f\"Kata terpanjang         : {kata_terpanjang}\")\n",
        "print(f\"Daftar kata (urut abjad): {kata_urut}\")\n"
      ],
      "metadata": {
        "colab": {
          "base_uri": "https://localhost:8080/"
        },
        "id": "bou7lUaBKTtx",
        "outputId": "3a7e71e2-e672-411e-f0f8-9abd3bd1b4ed"
      },
      "execution_count": 18,
      "outputs": [
        {
          "output_type": "stream",
          "name": "stdout",
          "text": [
            "Masukkan sebuah kalimat: Saya hari ini menggunakan batik.\n",
            "\n",
            "=== HASIL ANALISIS ===\n",
            "Jumlah kata             : 5\n",
            "Kata terpanjang         : menggunakan\n",
            "Daftar kata (urut abjad): ['Saya', 'batik.', 'hari', 'ini', 'menggunakan']\n"
          ]
        }
      ]
    }
  ]
}