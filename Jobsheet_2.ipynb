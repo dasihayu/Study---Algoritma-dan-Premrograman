{
  "nbformat": 4,
  "nbformat_minor": 0,
  "metadata": {
    "colab": {
      "provenance": [],
      "authorship_tag": "ABX9TyMkP7SqTlLFD/PSH7fQs5YY",
      "include_colab_link": true
    },
    "kernelspec": {
      "name": "python3",
      "display_name": "Python 3"
    },
    "language_info": {
      "name": "python"
    }
  },
  "cells": [
    {
      "cell_type": "markdown",
      "metadata": {
        "id": "view-in-github",
        "colab_type": "text"
      },
      "source": [
        "<a href=\"https://colab.research.google.com/github/dasihayu/Study---Algoritma-dan-Premrograman/blob/main/Jobsheet_2.ipynb\" target=\"_parent\"><img src=\"https://colab.research.google.com/assets/colab-badge.svg\" alt=\"Open In Colab\"/></a>"
      ]
    },
    {
      "cell_type": "markdown",
      "source": [
        "**Praktikum 1 - Pengenalan Variable dan Tipe Data**"
      ],
      "metadata": {
        "id": "h3Keq6BvZ-ca"
      }
    },
    {
      "cell_type": "code",
      "source": [
        "#Integer\n",
        "umur = 18\n",
        "print(f\"Umur : {umur} > {type(umur)} \" )\n",
        "\n",
        "# Float\n",
        "tinggi = 163.4\n",
        "print(f\"Tinggi: {tinggi} > {type(tinggi)} \")\n",
        "\n",
        "# String\n",
        "nama = \"Riki\"\n",
        "print(f\"Nama: {nama} > {type(nama)}\")\n",
        "\n",
        "# Boolean\n",
        "is_mahasiswa = True\n",
        "print(f\"Status Mahasiswa: {is_mahasiswa} > {type(is_mahasiswa)}\")\n",
        "\n",
        "# List\n",
        "nilai = [80, 85, 90]\n",
        "print(f\"Nilai: {nilai} > {type(nilai )}\")\n",
        "\n",
        "# Tuple\n",
        "koordinat = (56, -456)\n",
        "print(f\"Koordinat: {koordinat} > {type(koordinat)}\")\n",
        "\n",
        "# Dictionary\n",
        "mahasiswa = {\"nama\": \"Andi\", \"umur\": 20, \"prodi\": \"TRK\"}\n",
        "print(f\"Data Mahasiswa:\", mahasiswa, \"→\", type(mahasiswa))\n",
        "\n",
        "# Set\n",
        "hobi = {\"membaca\", \"olahraga\", \"musik\"}\n",
        "print(f\"Hobi:\", hobi, \"→\", type(hobi))"
      ],
      "metadata": {
        "colab": {
          "base_uri": "https://localhost:8080/"
        },
        "id": "UO9prC-QaHwN",
        "outputId": "2b13ab28-c847-46d1-e00f-339a484d802b"
      },
      "execution_count": 1,
      "outputs": [
        {
          "output_type": "stream",
          "name": "stdout",
          "text": [
            "Umur : 18 > <class 'int'> \n",
            "Tinggi: 163.4 > <class 'float'> \n",
            "Nama: Riki > <class 'str'>\n",
            "Status Mahasiswa: True > <class 'bool'>\n",
            "Nilai: [80, 85, 90] > <class 'list'>\n",
            "Koordinat: (56, -456) > <class 'tuple'>\n",
            "Data Mahasiswa: {'nama': 'Andi', 'umur': 20, 'prodi': 'TRK'} → <class 'dict'>\n",
            "Hobi: {'musik', 'olahraga', 'membaca'} → <class 'set'>\n"
          ]
        }
      ]
    },
    {
      "cell_type": "markdown",
      "source": [
        "**Praktikum 2 - Input & Output Dasar (variasi format)**"
      ],
      "metadata": {
        "id": "olkNKMWpcFzk"
      }
    },
    {
      "cell_type": "code",
      "source": [
        "# Input string\n",
        "nama = input(\"Masukkan nama Anda: \")\n",
        "\n",
        "# Input integer\n",
        "umur = int(input(\"Masukkan umur Anda: \"))\n",
        "\n",
        "# Input float\n",
        "tinggi = float(input(\"Masukkan tinggi badan (cm): \"))\n",
        "\n",
        "# Output standar\n",
        "print(\"Halo,\", nama, \"umur Anda:\", umur, \"tahun, tinggi:\", tinggi, \"cm\")\n",
        "\n",
        "# Output dengan format()\n",
        "print(\"Halo {0}, umur Anda {1} tahun, tinggi {2} cm\".format(nama, umur, tinggi))\n",
        "\n",
        "# Output dengan f-string\n",
        "print(f\"Halo {nama}, umur Anda {umur} tahun, tinggi {tinggi} cm\")"
      ],
      "metadata": {
        "colab": {
          "base_uri": "https://localhost:8080/"
        },
        "id": "BcU_5BY0cNDA",
        "outputId": "9c9ea09f-26ea-4a10-ccd3-29855c6c6a13"
      },
      "execution_count": 2,
      "outputs": [
        {
          "output_type": "stream",
          "name": "stdout",
          "text": [
            "Masukkan nama Anda: Dasi Hayu Permana\n",
            "Masukkan umur Anda: 18\n",
            "Masukkan tinggi badan (cm): 175\n",
            "Halo, Dasi Hayu Permana umur Anda: 18 tahun, tinggi: 175.0 cm\n",
            "Halo Dasi Hayu Permana, umur Anda 18 tahun, tinggi 175.0 cm\n",
            "Halo Dasi Hayu Permana, umur Anda 18 tahun, tinggi 175.0 cm\n"
          ]
        }
      ]
    },
    {
      "cell_type": "markdown",
      "source": [
        "**Praktikum 3 - Operator Aritmatika**"
      ],
      "metadata": {
        "id": "jR0HVZJWcmGv"
      }
    },
    {
      "cell_type": "code",
      "source": [
        "a = 14\n",
        "b = 8\n",
        "\n",
        "print(\"a + b =\", a + b)\n",
        "print(\"a - b =\", a - b)\n",
        "print(\"a * b =\", a * b)\n",
        "print(\"a / b =\", a / b)\n",
        "print(\"a // b =\", a // b)\n",
        "print(\"a % b =\", a % b)\n",
        "print(\"a ** b =\", a ** b)"
      ],
      "metadata": {
        "colab": {
          "base_uri": "https://localhost:8080/"
        },
        "id": "1f0fxOjjcx_8",
        "outputId": "a366790b-dd36-4aa8-bc75-5337cb2cdca7"
      },
      "execution_count": 3,
      "outputs": [
        {
          "output_type": "stream",
          "name": "stdout",
          "text": [
            "a + b = 22\n",
            "a - b = 6\n",
            "a * b = 112\n",
            "a / b = 1.75\n",
            "a // b = 1\n",
            "a % b = 6\n",
            "a ** b = 1475789056\n"
          ]
        }
      ]
    },
    {
      "cell_type": "markdown",
      "source": [
        "**Praktikum 4 - Operator Relasional**"
      ],
      "metadata": {
        "id": "ApVwYn7sdFRo"
      }
    },
    {
      "cell_type": "code",
      "source": [
        "x = 10\n",
        "y = 21\n",
        "\n",
        "print(\"x == y :\", x == y)\n",
        "print(\"x != y :\", x != y)\n",
        "print(\"x < y :\", x < y)\n",
        "print(\"x > y :\", x > y)\n",
        "print(\"x <= y :\", x <= y)\n",
        "print(\"x >= y :\", x >= y)"
      ],
      "metadata": {
        "colab": {
          "base_uri": "https://localhost:8080/"
        },
        "id": "dbo_asWRdI3N",
        "outputId": "559c784f-014a-4b85-ed17-5573ace4f51c"
      },
      "execution_count": 4,
      "outputs": [
        {
          "output_type": "stream",
          "name": "stdout",
          "text": [
            "x == y : False\n",
            "x != y : True\n",
            "x < y : True\n",
            "x > y : False\n",
            "x <= y : True\n",
            "x >= y : False\n"
          ]
        }
      ]
    },
    {
      "cell_type": "markdown",
      "source": [
        "**Praktikum 5 - Operator Logika dengan Studi Kasus Nyata**"
      ],
      "metadata": {
        "id": "sRTknKK5dXP9"
      }
    },
    {
      "cell_type": "code",
      "source": [
        "# Operator logika dasar\n",
        "a = True\n",
        "b = False\n",
        "\n",
        "print(\"a and b =\", a and b)\n",
        "print(\"a or b =\", a or b)\n",
        "print(\"not a =\", not a)\n",
        "\n",
        "# Studi kasus nyata: kelulusan\n",
        "nilai = int(input(\"Masukkan nilai ujian: \"))\n",
        "hadir = int(input(\"Masukkan jumlah kehadiran: \"))\n",
        "\n",
        "lulus_nilai = nilai >= 60\n",
        "lulus_hadir = hadir >= 12\n",
        "\n",
        "if lulus_nilai and lulus_hadir:\n",
        "  print(\"Status: LULUS\")\n",
        "else:\n",
        "  print(\"Status: TIDAK LULUS\")"
      ],
      "metadata": {
        "colab": {
          "base_uri": "https://localhost:8080/"
        },
        "id": "o4VObayydWhg",
        "outputId": "e20d100d-d844-4402-faef-72ae23475cec"
      },
      "execution_count": 7,
      "outputs": [
        {
          "output_type": "stream",
          "name": "stdout",
          "text": [
            "a and b = False\n",
            "a or b = True\n",
            "not a = False\n",
            "Masukkan nilai ujian: 72\n",
            "Masukkan jumlah kehadiran: 10\n",
            "Status: TIDAK LULUS\n"
          ]
        }
      ]
    },
    {
      "cell_type": "markdown",
      "source": [
        "**Praktikum 6 - Program Kasir Sederhana**"
      ],
      "metadata": {
        "id": "8uluj-mVeM6g"
      }
    },
    {
      "cell_type": "code",
      "source": [
        "barang = input(\"Masukkan nama barang: \")\n",
        "harga = float(input(\"Masukkan harga barang: \"))\n",
        "jumlah = int(input(\"Masukkan jumlah barang: \"))\n",
        "\n",
        "total = harga * jumlah\n",
        "\n",
        "# Aturan diskon\n",
        "if total >= 500000:\n",
        "  diskon = 0.2\n",
        "elif total >= 250000:\n",
        "  diskon = 0.1\n",
        "else:\n",
        "  diskon = 0\n",
        "\n",
        "potongan = total * diskon\n",
        "bayar = total - potongan\n",
        "\n",
        "print(\"\\n===== Struk Belanja =====\")\n",
        "print(f\"Barang : {barang}\")\n",
        "print(f\"Jumlah : {jumlah}\")\n",
        "print(f\"Total : Rp {total}\")\n",
        "print(f\"Diskon : {diskon * 100}%\")\n",
        "print(f\"Bayar : Rp {bayar}\")\n"
      ],
      "metadata": {
        "colab": {
          "base_uri": "https://localhost:8080/"
        },
        "id": "63jpyTO0eQmC",
        "outputId": "22843166-0038-4492-feeb-d71c232cec0c"
      },
      "execution_count": 9,
      "outputs": [
        {
          "output_type": "stream",
          "name": "stdout",
          "text": [
            "Masukkan nama barang: Pisang\n",
            "Masukkan harga barang: 50000\n",
            "Masukkan jumlah barang: 9\n",
            "\n",
            "===== Struk Belanja =====\n",
            "Barang : Pisang\n",
            "Jumlah : 9\n",
            "Total : Rp 450000.0\n",
            "Diskon : 10.0%\n",
            "Bayar : Rp 405000.0\n"
          ]
        }
      ]
    },
    {
      "cell_type": "markdown",
      "source": [
        "***PENUGASAN***"
      ],
      "metadata": {
        "id": "sKncaU-JfIkV"
      }
    },
    {
      "cell_type": "markdown",
      "source": [
        "**Identitas Mahasiswa**"
      ],
      "metadata": {
        "id": "aP5ZbhsYfNfg"
      }
    },
    {
      "cell_type": "code",
      "source": [
        "nama = \"Dasi Hayu Permana\"\n",
        "umur = 18\n",
        "tinggi = 175\n",
        "status_aktif = True\n",
        "\n",
        "print(f\"Halo saya {nama}, sekarang saya berusia {umur} tahun dengan tinggi badan {tinggi}cm. Status mahasiswa aktif saya sekarang adalah {status_aktif} \")"
      ],
      "metadata": {
        "colab": {
          "base_uri": "https://localhost:8080/"
        },
        "id": "NIwzaTe1fVqf",
        "outputId": "fd20d8c3-278c-4946-88bd-4bb367f82717"
      },
      "execution_count": 11,
      "outputs": [
        {
          "output_type": "stream",
          "name": "stdout",
          "text": [
            "Halo saya Dasi Hayu Permana, sekarang saya berusia 18 tahun dengan tinggi badan 175cm. Status mahasiswa aktif saya sekarang adalah True \n"
          ]
        }
      ]
    },
    {
      "cell_type": "markdown",
      "source": [
        "**Operasi Aritmatika**"
      ],
      "metadata": {
        "id": "po3zxT8Igj_D"
      }
    },
    {
      "cell_type": "code",
      "source": [
        "n = (12, 35)\n",
        "\n",
        "print(f\" + {n[0] + n[1]}\")\n",
        "print(f\" - {n[0] - n[1]}\")\n",
        "print(f\" * {n[0] * n[1]}\")\n",
        "print(f\" / {n[0] / n[1]}\")\n",
        "print(f\" % {n[0] % n[1]}\")\n",
        "print(f\" ** {n[0] ** n[1]}\")"
      ],
      "metadata": {
        "colab": {
          "base_uri": "https://localhost:8080/"
        },
        "id": "9mF1x1BWgnwD",
        "outputId": "ce7a2cec-f6a4-4f79-8618-497e5816b1e8"
      },
      "execution_count": 13,
      "outputs": [
        {
          "output_type": "stream",
          "name": "stdout",
          "text": [
            " + 47\n",
            " - -23\n",
            " * 420\n",
            " / 0.34285714285714286\n",
            " % 12\n",
            " ** 59066822915424320448445358917464096768\n"
          ]
        }
      ]
    },
    {
      "cell_type": "markdown",
      "source": [
        "**Konversi Nilai**"
      ],
      "metadata": {
        "id": "UbZlrqc9hc97"
      }
    },
    {
      "cell_type": "code",
      "source": [
        "nilai = float(input(\"Masukkan nilai (112.21) : \"))\n",
        "\n",
        "print(f\" (int) {int(nilai)},\\n (str) {str(nilai)},\\n (round) {round(nilai)}\")"
      ],
      "metadata": {
        "colab": {
          "base_uri": "https://localhost:8080/"
        },
        "id": "o6kP0Ihxg3YA",
        "outputId": "48904ca8-e48c-4887-de1f-9b1db52de2ad"
      },
      "execution_count": 18,
      "outputs": [
        {
          "output_type": "stream",
          "name": "stdout",
          "text": [
            "Masukkan nilai (112.21) : 314.81\n",
            " (int) 314,\n",
            " (str) 314.81,\n",
            " (round) 315\n"
          ]
        }
      ]
    },
    {
      "cell_type": "markdown",
      "source": [
        "**Operator Relasional**"
      ],
      "metadata": {
        "id": "dZRO1tmlkesS"
      }
    },
    {
      "cell_type": "code",
      "source": [
        "print(\"--- Program Perbandingan Dua Bilangan ---\")\n",
        "\n",
        "angka1 = 19\n",
        "angka2 = 109\n",
        "\n",
        "print(\"\\n--- Hasil ---\")\n",
        "\n",
        "print(f\"{angka1} == {angka2} adalah {angka1 == angka2}\")\n",
        "print(f\"{angka1} != {angka2} adalah {angka1 != angka2}\")\n",
        "print(f\"{angka1} < {angka2} adalah {angka1 < angka2}\")\n",
        "print(f\"{angka1} > {angka2} adalah {angka1 > angka2}\")\n",
        "print(f\"{angka1} <= {angka2} adalah {angka1 <= angka2}\")\n",
        "print(f\"{angka1} >= {angka2} adalah {angka1 >= angka2}\")"
      ],
      "metadata": {
        "colab": {
          "base_uri": "https://localhost:8080/"
        },
        "id": "O9PEqiaYkeao",
        "outputId": "a1a7ea49-6380-4a2a-c1a5-5eb80cb2592b"
      },
      "execution_count": 19,
      "outputs": [
        {
          "output_type": "stream",
          "name": "stdout",
          "text": [
            "--- Program Perbandingan Dua Bilangan ---\n",
            "\n",
            "--- Hasil ---\n",
            "19 == 109 adalah False\n",
            "19 != 109 adalah True\n",
            "19 < 109 adalah True\n",
            "19 > 109 adalah False\n",
            "19 <= 109 adalah True\n",
            "19 >= 109 adalah False\n"
          ]
        }
      ]
    }
  ]
}