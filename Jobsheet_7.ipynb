{
  "nbformat": 4,
  "nbformat_minor": 0,
  "metadata": {
    "colab": {
      "provenance": [],
      "authorship_tag": "ABX9TyNa9J7wM506AGxbhgoiQaMe",
      "include_colab_link": true
    },
    "kernelspec": {
      "name": "python3",
      "display_name": "Python 3"
    },
    "language_info": {
      "name": "python"
    }
  },
  "cells": [
    {
      "cell_type": "markdown",
      "metadata": {
        "id": "view-in-github",
        "colab_type": "text"
      },
      "source": [
        "<a href=\"https://colab.research.google.com/github/dasihayu/Study---Algoritma-dan-Premrograman/blob/main/Jobsheet_7.ipynb\" target=\"_parent\"><img src=\"https://colab.research.google.com/assets/colab-badge.svg\" alt=\"Open In Colab\"/></a>"
      ]
    },
    {
      "cell_type": "markdown",
      "source": [
        "**Praktikum 1 - Tuple: Data Tetap**"
      ],
      "metadata": {
        "id": "4P3qQkyOSzjs"
      }
    },
    {
      "cell_type": "code",
      "execution_count": null,
      "metadata": {
        "colab": {
          "base_uri": "https://localhost:8080/"
        },
        "id": "PBiZy136Sb3o",
        "outputId": "38978fb6-ff31-43a7-ae8e-bce084e0dccb"
      },
      "outputs": [
        {
          "output_type": "stream",
          "name": "stdout",
          "text": [
            "Lintang:  7.05\n",
            "Bujur:  110.44\n"
          ]
        }
      ],
      "source": [
        "koordinat = (7.05, 110.44)\n",
        "print(\"Lintang: \", koordinat[0])\n",
        "print(\"Bujur: \", koordinat[1])"
      ]
    },
    {
      "cell_type": "markdown",
      "source": [
        "**Praktikum 2 - Dictionary Dasar**"
      ],
      "metadata": {
        "id": "DdmmdSBrTU6-"
      }
    },
    {
      "cell_type": "code",
      "source": [
        "mahasiswa = {\n",
        "    \"NIM\": \"20251001\",\n",
        "    \"Nama\": \"Andi\",\n",
        "    \"Prodi\": \"TRK\"\n",
        "}\n",
        "\n",
        "print(\"NIM: \", mahasiswa[\"NIM\"])\n",
        "print(\"Nama: \", mahasiswa[\"Nama\"])\n",
        "print(\"Prodi: \", mahasiswa[\"Prodi\"])"
      ],
      "metadata": {
        "colab": {
          "base_uri": "https://localhost:8080/"
        },
        "id": "NJW_qoHTTY8s",
        "outputId": "61917655-e668-4c7b-8515-306f05bb0004"
      },
      "execution_count": null,
      "outputs": [
        {
          "output_type": "stream",
          "name": "stdout",
          "text": [
            "NIM:  20251001\n",
            "Nama:  Andi\n",
            "Prodi:  TRK\n"
          ]
        }
      ]
    },
    {
      "cell_type": "markdown",
      "source": [
        "**Praktikum 3 - Operasi Dictionary**"
      ],
      "metadata": {
        "id": "3Ogfoq3RTp0W"
      }
    },
    {
      "cell_type": "code",
      "source": [
        "mahasiswa = {\n",
        "    \"NIM\": \"20251001\",\n",
        "    \"Nama\": \"Andi\",\n",
        "    \"Prodi\": \"TRK\"\n",
        "}\n",
        "\n",
        "mahasiswa[\"Umur\"] = 20\n",
        "mahasiswa[\"Prodi\"] = \"Teknik Komputer\"\n",
        "del mahasiswa[\"Umur\"]\n",
        "\n",
        "print(mahasiswa)"
      ],
      "metadata": {
        "colab": {
          "base_uri": "https://localhost:8080/"
        },
        "id": "k7mTgDYLTt_D",
        "outputId": "2c895f4b-b8bf-4fc5-bbf3-537a0935907e"
      },
      "execution_count": null,
      "outputs": [
        {
          "output_type": "stream",
          "name": "stdout",
          "text": [
            "{'NIM': '20251001', 'Nama': 'Andi', 'Prodi': 'Teknik Komputer'}\n"
          ]
        }
      ]
    },
    {
      "cell_type": "markdown",
      "source": [
        "**Praktikum 4 - Set dan Operasi Himpunan**"
      ],
      "metadata": {
        "id": "dnoNCSr5UJFd"
      }
    },
    {
      "cell_type": "code",
      "source": [
        "A = {1, 2, 3, 4, 5}\n",
        "B = {4, 5, 6, 7, 8}\n",
        "\n",
        "print(\"Union: \", A | B)\n",
        "print(\"Intersection: \", A & B)\n",
        "print(\"Difference: \", A - B)"
      ],
      "metadata": {
        "colab": {
          "base_uri": "https://localhost:8080/"
        },
        "id": "6FcS0_b5ULn2",
        "outputId": "826209e9-b322-4b81-c0f5-00a961d27c3c"
      },
      "execution_count": null,
      "outputs": [
        {
          "output_type": "stream",
          "name": "stdout",
          "text": [
            "Union:  {1, 2, 3, 4, 5, 6, 7, 8}\n",
            "Intersection:  {4, 5}\n",
            "Difference:  {1, 2, 3}\n"
          ]
        }
      ]
    },
    {
      "cell_type": "markdown",
      "source": [
        "**Praktikum 5 - Studi Kasus (Mata Kuliah)**"
      ],
      "metadata": {
        "id": "HbFWLmglUkM-"
      }
    },
    {
      "cell_type": "code",
      "source": [
        "mhs1 = {\"Algoritma\", \"Matematika\", \"Bahasa Inggris\"}\n",
        "mhs2 = {\"Algoritma\", \"Basis Data\", \"Matematika\"}\n",
        "\n",
        "print(\"Mata kuliah mhs1: \", mhs1)\n",
        "print(\"Mata kuliah mhs2: \", mhs2)\n",
        "print(\"Mata kuliah yang sama: \", mhs1 & mhs2)"
      ],
      "metadata": {
        "colab": {
          "base_uri": "https://localhost:8080/"
        },
        "id": "VQoOesJzUpYp",
        "outputId": "f80054f1-24e6-4183-9222-974b9b4de90e"
      },
      "execution_count": null,
      "outputs": [
        {
          "output_type": "stream",
          "name": "stdout",
          "text": [
            "Mata kuliah mhs1:  {'Bahasa Inggris', 'Algoritma', 'Matematika'}\n",
            "Mata kuliah mhs2:  {'Algoritma', 'Matematika', 'Basis Data'}\n",
            "Mata kuliah yang sama:  {'Algoritma', 'Matematika'}\n"
          ]
        }
      ]
    },
    {
      "cell_type": "markdown",
      "source": [
        "**Praktikum 6 - Studi Kasus (Dictionary Daftar Nilai)**"
      ],
      "metadata": {
        "id": "_8LXq6WmVKFJ"
      }
    },
    {
      "cell_type": "code",
      "source": [
        "nilai_mahasiswa = {\n",
        "    \"Andi\": 85,\n",
        "    \"Budi\": 92,\n",
        "    \"Cici\": 90\n",
        "}\n",
        "\n",
        "for nama, nilai in nilai_mahasiswa.items():\n",
        "    print(f\"{nama}: {nilai}\")\n",
        "rata = sum(nilai_mahasiswa.values()) / len(nilai_mahasiswa)\n",
        "print(f\"Rata-rata nilai: {rata:2f}\")"
      ],
      "metadata": {
        "colab": {
          "base_uri": "https://localhost:8080/"
        },
        "id": "iUMVCb-pVJ2B",
        "outputId": "f2bbb558-b562-46d6-9715-46e57c59251b"
      },
      "execution_count": null,
      "outputs": [
        {
          "output_type": "stream",
          "name": "stdout",
          "text": [
            "Andi: 85\n",
            "Budi: 92\n",
            "Cici: 90\n",
            "Rata-rata nilai: 89.000000\n"
          ]
        }
      ]
    },
    {
      "cell_type": "markdown",
      "source": [
        "***PENUGASAN***"
      ],
      "metadata": {
        "id": "OLfh67f0nbid"
      }
    },
    {
      "cell_type": "markdown",
      "source": [
        "**Tuple Sederhana**"
      ],
      "metadata": {
        "id": "10oBOthsnndA"
      }
    },
    {
      "cell_type": "code",
      "source": [
        "mahasiswa = (\"Dasi\", 18, \"TRK\")\n",
        "\n",
        "print(\"Nama:\", mahasiswa[0])\n",
        "print(\"Umur:\", mahasiswa[1])\n",
        "print(\"Prodi:\", mahasiswa[2])"
      ],
      "metadata": {
        "colab": {
          "base_uri": "https://localhost:8080/"
        },
        "id": "QlCLJPgpnjGA",
        "outputId": "9d33b433-4a45-48a3-f042-f002fd1936ff"
      },
      "execution_count": 1,
      "outputs": [
        {
          "output_type": "stream",
          "name": "stdout",
          "text": [
            "Nama: Dasi\n",
            "Umur: 18\n",
            "Prodi: TRK\n"
          ]
        }
      ]
    },
    {
      "cell_type": "markdown",
      "source": [
        "**Tuple Tidak Bisa Dirubah**"
      ],
      "metadata": {
        "id": "Oec6htM_qMmO"
      }
    },
    {
      "cell_type": "code",
      "source": [
        "data = (1, 2, 3)\n",
        "data[0] = 10\n",
        "\n",
        "print(data)"
      ],
      "metadata": {
        "colab": {
          "base_uri": "https://localhost:8080/",
          "height": 193
        },
        "id": "HI_3NS7qqO8J",
        "outputId": "e98de01e-15d7-4648-daf9-76e22531187c"
      },
      "execution_count": 2,
      "outputs": [
        {
          "output_type": "error",
          "ename": "TypeError",
          "evalue": "'tuple' object does not support item assignment",
          "traceback": [
            "\u001b[0;31m---------------------------------------------------------------------------\u001b[0m",
            "\u001b[0;31mTypeError\u001b[0m                                 Traceback (most recent call last)",
            "\u001b[0;32m/tmp/ipython-input-2118215359.py\u001b[0m in \u001b[0;36m<cell line: 0>\u001b[0;34m()\u001b[0m\n\u001b[1;32m      1\u001b[0m \u001b[0mdata\u001b[0m \u001b[0;34m=\u001b[0m \u001b[0;34m(\u001b[0m\u001b[0;36m1\u001b[0m\u001b[0;34m,\u001b[0m \u001b[0;36m2\u001b[0m\u001b[0;34m,\u001b[0m \u001b[0;36m3\u001b[0m\u001b[0;34m)\u001b[0m\u001b[0;34m\u001b[0m\u001b[0;34m\u001b[0m\u001b[0m\n\u001b[0;32m----> 2\u001b[0;31m \u001b[0mdata\u001b[0m\u001b[0;34m[\u001b[0m\u001b[0;36m0\u001b[0m\u001b[0;34m]\u001b[0m \u001b[0;34m=\u001b[0m \u001b[0;36m10\u001b[0m\u001b[0;34m\u001b[0m\u001b[0;34m\u001b[0m\u001b[0m\n\u001b[0m\u001b[1;32m      3\u001b[0m \u001b[0;34m\u001b[0m\u001b[0m\n\u001b[1;32m      4\u001b[0m \u001b[0mprint\u001b[0m\u001b[0;34m(\u001b[0m\u001b[0mdata\u001b[0m\u001b[0;34m)\u001b[0m\u001b[0;34m\u001b[0m\u001b[0;34m\u001b[0m\u001b[0m\n",
            "\u001b[0;31mTypeError\u001b[0m: 'tuple' object does not support item assignment"
          ]
        }
      ]
    },
    {
      "cell_type": "markdown",
      "source": [
        "**Dictionary Dasar**"
      ],
      "metadata": {
        "id": "BrBpVdvGrjB0"
      }
    },
    {
      "cell_type": "code",
      "source": [
        "buku = {\n",
        "    \"Judul\": \"Algoritma\",\n",
        "    \"Penulis\": \"Munir\",\n",
        "    \"Tahun\": 2021\n",
        "}\n",
        "\n",
        "print(\"Judul:\", buku[\"Judul\"])\n",
        "print(\"Penulis:\", buku[\"Penulis\"])\n",
        "print(\"Tahun:\", buku[\"Tahun\"])"
      ],
      "metadata": {
        "colab": {
          "base_uri": "https://localhost:8080/"
        },
        "id": "u_skeQy2rlr3",
        "outputId": "43f05ae7-3ed9-4163-f93a-38193b9cab6c"
      },
      "execution_count": 3,
      "outputs": [
        {
          "output_type": "stream",
          "name": "stdout",
          "text": [
            "Judul: Algoritma\n",
            "Penulis: Munir\n",
            "Tahun: 2021\n"
          ]
        }
      ]
    },
    {
      "cell_type": "markdown",
      "source": [
        "**Operasi Dictionary**"
      ],
      "metadata": {
        "id": "iSZU-YMYs-M_"
      }
    },
    {
      "cell_type": "code",
      "source": [
        "dosen = {\n",
        "    \"NIP\": \"12345\",\n",
        "    \"Nama\": \"Budi\",\n",
        "    \"Prodi\": \"TRK\"\n",
        "}\n",
        "\n",
        "dosen[\"Umur\"] = 40\n",
        "dosen[\"Prodi\"] = \"Teknik Komputer\"\n",
        "del dosen[\"Umur\"]\n",
        "\n",
        "print(\"Hasil akhir dictionary:\", dosen)"
      ],
      "metadata": {
        "colab": {
          "base_uri": "https://localhost:8080/"
        },
        "id": "E9GpEr2Ss7Ic",
        "outputId": "eb138675-34a9-4aa1-c2a0-748994e75bf5"
      },
      "execution_count": 4,
      "outputs": [
        {
          "output_type": "stream",
          "name": "stdout",
          "text": [
            "Hasil akhir dictionary: {'NIP': '12345', 'Nama': 'Budi', 'Prodi': 'Teknik Komputer'}\n"
          ]
        }
      ]
    },
    {
      "cell_type": "markdown",
      "source": [
        "**Set dan Himpunan**"
      ],
      "metadata": {
        "id": "HDvv91mgt6cu"
      }
    },
    {
      "cell_type": "code",
      "source": [
        "A = {\"Matematika\", \"Algoritma\", \"Bahasa Inggris\"}\n",
        "B = {\"Algoritma\", \"Basis Data\", \"Matematika\"}\n",
        "\n",
        "union_result = A.union(B)\n",
        "intersection_result = A.intersection(B)\n",
        "difference_result = A.difference(B)\n",
        "\n",
        "print(\"Union:\", union_result)\n",
        "print(\"Intersection:\", intersection_result)\n",
        "print(\"Difference (A - B):\", difference_result)"
      ],
      "metadata": {
        "colab": {
          "base_uri": "https://localhost:8080/"
        },
        "id": "KgIYgahjt8bn",
        "outputId": "cbb31179-3e94-4362-b2cd-732eed178357"
      },
      "execution_count": 5,
      "outputs": [
        {
          "output_type": "stream",
          "name": "stdout",
          "text": [
            "Union: {'Matematika', 'Algoritma', 'Bahasa Inggris', 'Basis Data'}\n",
            "Intersection: {'Algoritma', 'Matematika'}\n",
            "Difference (A - B): {'Bahasa Inggris'}\n"
          ]
        }
      ]
    },
    {
      "cell_type": "markdown",
      "source": [
        "**Studi Kasus (Dictionary)**"
      ],
      "metadata": {
        "id": "hYId_ZYHwtH4"
      }
    },
    {
      "cell_type": "code",
      "source": [
        "nilai = {\"Andi\": 85, \"Budi\": 90, \"Cici\": 78}\n",
        "\n",
        "print(\"Daftar nilai mahasiswa:\")\n",
        "total = 0\n",
        "for nama in nilai:\n",
        "    print(nama, \":\", nilai[nama])\n",
        "    total += nilai[nama]\n",
        "\n",
        "rata = total / len(nilai)\n",
        "\n",
        "print(\"Rata-rata nilai:\", rata)"
      ],
      "metadata": {
        "colab": {
          "base_uri": "https://localhost:8080/"
        },
        "id": "92BWAmTdwzqo",
        "outputId": "b9b01267-9e2b-4f1c-c2e1-a561b15137fc"
      },
      "execution_count": 6,
      "outputs": [
        {
          "output_type": "stream",
          "name": "stdout",
          "text": [
            "Daftar nilai mahasiswa:\n",
            "Andi : 85\n",
            "Budi : 90\n",
            "Cici : 78\n",
            "Rata-rata nilai: 84.33333333333333\n"
          ]
        }
      ]
    },
    {
      "cell_type": "markdown",
      "source": [
        "**Studi Kasus Set (Klub Mahasiswa)**"
      ],
      "metadata": {
        "id": "cFD7HcDQxs4D"
      }
    },
    {
      "cell_type": "code",
      "source": [
        "klubA = {\"Andi\", \"Budi\", \"Cici\"}\n",
        "klubB = {\"Cici\", \"Deni\", \"Eka\"}\n",
        "\n",
        "print(\"Daftar seluruh anggota (union):\", klubA.union(klubB))\n",
        "print(\"Daftar anggota di kedua klub (intersection):\", klubA.intersection(klubB))\n",
        "print(\"Anggota yang hanya di Klub A (difference):\", klubA.difference(klubB))"
      ],
      "metadata": {
        "colab": {
          "base_uri": "https://localhost:8080/"
        },
        "id": "IBZStHCXxrDB",
        "outputId": "053db3a0-7775-46de-988d-a6139a190c5e"
      },
      "execution_count": 7,
      "outputs": [
        {
          "output_type": "stream",
          "name": "stdout",
          "text": [
            "Daftar seluruh anggota (union): {'Deni', 'Cici', 'Eka', 'Budi', 'Andi'}\n",
            "Daftar anggota di kedua klub (intersection): {'Cici'}\n",
            "Anggota yang hanya di Klub A (difference): {'Budi', 'Andi'}\n"
          ]
        }
      ]
    }
  ]
}