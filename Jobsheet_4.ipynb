{
  "nbformat": 4,
  "nbformat_minor": 0,
  "metadata": {
    "colab": {
      "provenance": [],
      "authorship_tag": "ABX9TyPKj0244rXGioU9NcN08aXV",
      "include_colab_link": true
    },
    "kernelspec": {
      "name": "python3",
      "display_name": "Python 3"
    },
    "language_info": {
      "name": "python"
    }
  },
  "cells": [
    {
      "cell_type": "markdown",
      "metadata": {
        "id": "view-in-github",
        "colab_type": "text"
      },
      "source": [
        "<a href=\"https://colab.research.google.com/github/dasihayu/Study---Algoritma-dan-Premrograman/blob/main/Jobsheet_4.ipynb\" target=\"_parent\"><img src=\"https://colab.research.google.com/assets/colab-badge.svg\" alt=\"Open In Colab\"/></a>"
      ]
    },
    {
      "cell_type": "markdown",
      "source": [
        "**Praktikum 1 - For dengan range**"
      ],
      "metadata": {
        "id": "0f86Uj72krwR"
      }
    },
    {
      "cell_type": "code",
      "execution_count": 1,
      "metadata": {
        "colab": {
          "base_uri": "https://localhost:8080/"
        },
        "id": "OSxpVILgiN2_",
        "outputId": "3a827555-6bb1-4571-f16c-285e46bfb83a"
      },
      "outputs": [
        {
          "output_type": "stream",
          "name": "stdout",
          "text": [
            "1\n",
            "2\n",
            "3\n",
            "4\n",
            "5\n"
          ]
        }
      ],
      "source": [
        "for i in range (1, 6):\n",
        "  print(i)"
      ]
    },
    {
      "cell_type": "markdown",
      "source": [
        "**Praktikum 2 - While (Hitung Mundur)**"
      ],
      "metadata": {
        "id": "ZaV6gah_k56o"
      }
    },
    {
      "cell_type": "code",
      "source": [
        "n = 5\n",
        "while n > 0:\n",
        "  print(n)\n",
        "  n -= 1\n",
        "print(\"Selesai!\")"
      ],
      "metadata": {
        "colab": {
          "base_uri": "https://localhost:8080/"
        },
        "id": "gxmfouUWk_hd",
        "outputId": "c2163b51-ecfb-4358-d18a-d7eb83ff8ba8"
      },
      "execution_count": 2,
      "outputs": [
        {
          "output_type": "stream",
          "name": "stdout",
          "text": [
            "5\n",
            "4\n",
            "3\n",
            "2\n",
            "1\n",
            "Selesai!\n"
          ]
        }
      ]
    },
    {
      "cell_type": "markdown",
      "source": [
        "Praktikum 3 - Nested Loop (Segitiga Bintang)"
      ],
      "metadata": {
        "id": "jHhsR4XplQ9w"
      }
    },
    {
      "cell_type": "code",
      "source": [
        "for i in range(1, 6):\n",
        "  for j in range(1, i +1):\n",
        "    print(\"*\", end=\"\")\n",
        "  print()"
      ],
      "metadata": {
        "colab": {
          "base_uri": "https://localhost:8080/"
        },
        "id": "ullMwRCKlZtF",
        "outputId": "4475d4fb-1bf9-4284-e9f1-595b590cf5b3"
      },
      "execution_count": 3,
      "outputs": [
        {
          "output_type": "stream",
          "name": "stdout",
          "text": [
            "*\n",
            "**\n",
            "***\n",
            "****\n",
            "*****\n"
          ]
        }
      ]
    },
    {
      "cell_type": "markdown",
      "source": [
        "**Praktikum 4.1 - Break**"
      ],
      "metadata": {
        "id": "zpV5oicylwT4"
      }
    },
    {
      "cell_type": "code",
      "source": [
        "for i in range(1, 11):\n",
        "  if i == 6:\n",
        "    break\n",
        "  print(\"Break :\", i)"
      ],
      "metadata": {
        "colab": {
          "base_uri": "https://localhost:8080/"
        },
        "id": "zQD2BFWQlzpE",
        "outputId": "706169f4-e0c9-4ba4-d227-9e448c2c5a98"
      },
      "execution_count": 4,
      "outputs": [
        {
          "output_type": "stream",
          "name": "stdout",
          "text": [
            "Break : 1\n",
            "Break : 2\n",
            "Break : 3\n",
            "Break : 4\n",
            "Break : 5\n"
          ]
        }
      ]
    },
    {
      "cell_type": "markdown",
      "source": [
        "**Praktikum 4.2 - Continue**"
      ],
      "metadata": {
        "id": "HxxBj9b0mQm8"
      }
    },
    {
      "cell_type": "code",
      "source": [
        "for i in range(1, 6):\n",
        "  if i == 3:\n",
        "    continue\n",
        "  print(\"Continue :\", i)"
      ],
      "metadata": {
        "colab": {
          "base_uri": "https://localhost:8080/"
        },
        "id": "deuPL5e2mOI8",
        "outputId": "2bb576ef-972e-4281-f6e9-9c1f629cd398"
      },
      "execution_count": 5,
      "outputs": [
        {
          "output_type": "stream",
          "name": "stdout",
          "text": [
            "Continue : 1\n",
            "Continue : 2\n",
            "Continue : 4\n",
            "Continue : 5\n"
          ]
        }
      ]
    },
    {
      "cell_type": "markdown",
      "source": [
        "**Praktikum 5 - For pada Dictionary**"
      ],
      "metadata": {
        "id": "l0SlIJ1im3D1"
      }
    },
    {
      "cell_type": "code",
      "source": [
        "data = {\"Nama\": \"Andi\", \"Umur\": 20, \"Prodi\": \"TRK\"}\n",
        "\n",
        "for key, value in data.items():\n",
        "  print(key, \":\", value)"
      ],
      "metadata": {
        "colab": {
          "base_uri": "https://localhost:8080/"
        },
        "id": "h1ozT8Aom6f_",
        "outputId": "4b5fe4fa-ebec-4c5f-cba2-563b8bf6410e"
      },
      "execution_count": 6,
      "outputs": [
        {
          "output_type": "stream",
          "name": "stdout",
          "text": [
            "Nama : Andi\n",
            "Umur : 20\n",
            "Prodi : TRK\n"
          ]
        }
      ]
    },
    {
      "cell_type": "markdown",
      "source": [
        "**Praktikum 6 - For dengan enumerate**"
      ],
      "metadata": {
        "id": "bK2ODAPKnqhl"
      }
    },
    {
      "cell_type": "code",
      "source": [
        "nama = [\"Andi\", \"Budi\", \"Cici\"]\n",
        "\n",
        "for index, name in enumerate(nama, start=1):\n",
        "  print(index, \":\", name)"
      ],
      "metadata": {
        "colab": {
          "base_uri": "https://localhost:8080/"
        },
        "id": "T3LxUyEYn0xS",
        "outputId": "02e55684-a723-453c-e4cd-227d943edb7e"
      },
      "execution_count": 7,
      "outputs": [
        {
          "output_type": "stream",
          "name": "stdout",
          "text": [
            "1 : Andi\n",
            "2 : Budi\n",
            "3 : Cici\n"
          ]
        }
      ]
    },
    {
      "cell_type": "markdown",
      "source": [
        "**Praktikum 7 - Kasir Multi-Item**"
      ],
      "metadata": {
        "id": "FDZWt1gOoIn5"
      }
    },
    {
      "cell_type": "code",
      "source": [
        "barang = [\n",
        "    {\"nama\": \"Buku\", \"harga\": 50000, \"jumlah\": 2},\n",
        "    {\"nama\": \"Pulpen\", \"harga\": 5000, \"jumlah\": 3}\n",
        "]\n",
        "\n",
        "total = 0\n",
        "\n",
        "print(\"==== Struk Pembelian =====\")\n",
        "for item in barang:\n",
        "  subtotal = item[\"harga\"] * item[\"jumlah\"]\n",
        "  total += subtotal\n",
        "  print(f\"{item['nama']} - {item['harga']} (x {item['jumlah']}) = Rp{subtotal:,}\")\n",
        "\n",
        "print(\"==== Total Pembelian =====\")\n",
        "print(f\"Total Bayar: Rp{total:,}\")"
      ],
      "metadata": {
        "colab": {
          "base_uri": "https://localhost:8080/"
        },
        "id": "hylvOuWmoQZs",
        "outputId": "8f31a8f6-8637-4976-9f44-6fbdf2f58aed"
      },
      "execution_count": 10,
      "outputs": [
        {
          "output_type": "stream",
          "name": "stdout",
          "text": [
            "==== Struk Pembelian =====\n",
            "Buku - 50000 (x 2) = Rp100,000\n",
            "Pulpen - 5000 (x 3) = Rp15,000\n",
            "==== Total Pembelian =====\n",
            "Total Bayar: Rp115,000\n"
          ]
        }
      ]
    },
    {
      "cell_type": "markdown",
      "source": [
        "***PENUGASAN***"
      ],
      "metadata": {
        "id": "5JxpK4anqWVp"
      }
    },
    {
      "cell_type": "markdown",
      "source": [
        "**Menampilkan Deret Angka**"
      ],
      "metadata": {
        "id": "CAx63hnHqeDr"
      }
    },
    {
      "cell_type": "code",
      "source": [
        "for i in range(3, 31, 3):\n",
        "  print(i)"
      ],
      "metadata": {
        "colab": {
          "base_uri": "https://localhost:8080/"
        },
        "id": "bTPVEEbEqWCw",
        "outputId": "6df8879d-66bd-44e0-b6ef-050d2fd60590"
      },
      "execution_count": 11,
      "outputs": [
        {
          "output_type": "stream",
          "name": "stdout",
          "text": [
            "3\n",
            "6\n",
            "9\n",
            "12\n",
            "15\n",
            "18\n",
            "21\n",
            "24\n",
            "27\n",
            "30\n"
          ]
        }
      ]
    },
    {
      "cell_type": "markdown",
      "source": [
        "**Hitung Faktorial**"
      ],
      "metadata": {
        "id": "CygX8U05s8S7"
      }
    },
    {
      "cell_type": "code",
      "source": [
        "n = int(input(\"Masukkan bilangan: \"))\n",
        "\n",
        "faktorial = 1\n",
        "i = 1\n",
        "\n",
        "while i <= n:\n",
        "    faktorial *= i\n",
        "    i += 1\n",
        "\n",
        "print(f\"Faktorial dari {n} adalah {faktorial}\")\n"
      ],
      "metadata": {
        "colab": {
          "base_uri": "https://localhost:8080/"
        },
        "id": "U5Lvb9LztCEF",
        "outputId": "32e3d4d6-29f7-426c-ff13-8b28d107d6ab"
      },
      "execution_count": 12,
      "outputs": [
        {
          "output_type": "stream",
          "name": "stdout",
          "text": [
            "Masukkan bilangan: 5\n",
            "Faktorial dari 5 adalah 120\n"
          ]
        }
      ]
    },
    {
      "cell_type": "markdown",
      "source": [
        "**Pola Segitiga Terbalik**"
      ],
      "metadata": {
        "id": "ddqyRu3EtdDB"
      }
    },
    {
      "cell_type": "code",
      "source": [
        "tinggi = 5\n",
        "\n",
        "for i in range(tinggi, 0, -1):\n",
        "    for j in range(i):\n",
        "        print(\"*\", end=\"\")\n",
        "    print()"
      ],
      "metadata": {
        "colab": {
          "base_uri": "https://localhost:8080/"
        },
        "id": "VKkrlBlqtgBH",
        "outputId": "d34cb1fe-d164-4026-8f11-2230a1b2d871"
      },
      "execution_count": 13,
      "outputs": [
        {
          "output_type": "stream",
          "name": "stdout",
          "text": [
            "*****\n",
            "****\n",
            "***\n",
            "**\n",
            "*\n"
          ]
        }
      ]
    },
    {
      "cell_type": "markdown",
      "source": [
        "**Cari Bilangan Prima dengan Break**"
      ],
      "metadata": {
        "id": "Bh29ucRatwK6"
      }
    },
    {
      "cell_type": "code",
      "source": [
        "bilangan = int(input(\"Masukkan sebuah bilangan: \"))\n",
        "\n",
        "is_prima = True\n",
        "\n",
        "if bilangan > 1:\n",
        "    for i in range(2, bilangan):\n",
        "        if bilangan % i == 0:\n",
        "            is_prima = False\n",
        "            break\n",
        "else:\n",
        "    is_prima = False\n",
        "\n",
        "if is_prima:\n",
        "    print(f\"{bilangan} adalah bilangan prima.\")\n",
        "else:\n",
        "    print(f\"{bilangan} bukan bilangan prima.\")\n"
      ],
      "metadata": {
        "colab": {
          "base_uri": "https://localhost:8080/"
        },
        "id": "U0qcZt_Bt4Yz",
        "outputId": "7c126498-e687-49a3-d7fa-f404f7d49c35"
      },
      "execution_count": 15,
      "outputs": [
        {
          "output_type": "stream",
          "name": "stdout",
          "text": [
            "Masukkan sebuah bilangan: 7\n",
            "7 adalah bilangan prima.\n"
          ]
        }
      ]
    },
    {
      "cell_type": "markdown",
      "source": [
        "**Tampilkan Hanya Bilangan Genap dengan Continue**"
      ],
      "metadata": {
        "id": "2iegdWMRwGbJ"
      }
    },
    {
      "cell_type": "code",
      "source": [
        "for i in range(1, 21):\n",
        "    if i % 2 != 0:\n",
        "        continue\n",
        "    print(i)\n"
      ],
      "metadata": {
        "colab": {
          "base_uri": "https://localhost:8080/"
        },
        "id": "Vl8DR2ygwF8q",
        "outputId": "8a1e974c-c624-4dd0-a13e-fe85da6ddc99"
      },
      "execution_count": 16,
      "outputs": [
        {
          "output_type": "stream",
          "name": "stdout",
          "text": [
            "2\n",
            "4\n",
            "6\n",
            "8\n",
            "10\n",
            "12\n",
            "14\n",
            "16\n",
            "18\n",
            "20\n"
          ]
        }
      ]
    },
    {
      "cell_type": "markdown",
      "source": [
        "**Iterasi Dictionary Mahasiwa**"
      ],
      "metadata": {
        "id": "t-kbD4q3waE7"
      }
    },
    {
      "cell_type": "code",
      "source": [
        "mahasiswa = {\n",
        "    \"Nama\": \"Budi\",\n",
        "    \"Umur\": 21,\n",
        "    \"Prodi\": \"Teknik Komputer\"\n",
        "}\n",
        "\n",
        "for key, value in mahasiswa.items():\n",
        "    print(f\"{key} : {value}\")"
      ],
      "metadata": {
        "colab": {
          "base_uri": "https://localhost:8080/"
        },
        "id": "UYAOiFPbwg1p",
        "outputId": "1103a424-4b8c-4e32-fedf-10c7861844c1"
      },
      "execution_count": 17,
      "outputs": [
        {
          "output_type": "stream",
          "name": "stdout",
          "text": [
            "Nama : Budi\n",
            "Umur : 21\n",
            "Prodi : Teknik Komputer\n"
          ]
        }
      ]
    },
    {
      "cell_type": "markdown",
      "source": [
        "**Enumerate Daftar Barang**"
      ],
      "metadata": {
        "id": "PML8_ej0w3wz"
      }
    },
    {
      "cell_type": "code",
      "source": [
        "barang = [\"Buku\", \"Pulpen\", \"Tas\"]\n",
        "\n",
        "for nomor, nama in enumerate(barang, start=1):\n",
        "    print(nomor, nama)"
      ],
      "metadata": {
        "colab": {
          "base_uri": "https://localhost:8080/"
        },
        "id": "vdMinbEPw7EF",
        "outputId": "bae92cca-2fc8-4224-e41a-4d66c218de48"
      },
      "execution_count": 18,
      "outputs": [
        {
          "output_type": "stream",
          "name": "stdout",
          "text": [
            "1 Buku\n",
            "2 Pulpen\n",
            "3 Tas\n"
          ]
        }
      ]
    },
    {
      "cell_type": "markdown",
      "source": [
        "**Studi Kasus - Kasir Diskon**"
      ],
      "metadata": {
        "id": "rdcgYaoUxc3j"
      }
    },
    {
      "cell_type": "code",
      "source": [
        "print(\"=== Program Kasir Sederhana ===\")\n",
        "print(\"Ketik 'selesai' jika sudah selesai belanja.\\n\")\n",
        "\n",
        "total = 0\n",
        "barang_list = []\n",
        "\n",
        "while True:\n",
        "    nama = input(\"Masukkan nama barang: \")\n",
        "    if nama.lower() == \"selesai\":\n",
        "        break\n",
        "\n",
        "    harga = int(input(\"Masukkan harga barang: \"))\n",
        "    jumlah = int(input(\"Masukkan jumlah barang: \"))\n",
        "\n",
        "    subtotal = harga * jumlah\n",
        "    total += subtotal\n",
        "\n",
        "    barang_list.append((nama, harga, jumlah, subtotal))\n",
        "    print(f\"Subtotal {nama}: Rp{subtotal:,}\\n\")\n",
        "\n",
        "diskon = 0\n",
        "if total >= 200000:\n",
        "    diskon = total * 0.10\n",
        "    total -= diskon\n",
        "\n",
        "print(\"\\n=== STRUK BELANJA ===\")\n",
        "for nama, harga, jumlah, subtotal in barang_list:\n",
        "    print(f\"{nama} (x{jumlah}) - Rp{harga:,} = Rp{subtotal:,}\")\n",
        "\n",
        "print(\"-----------------------------\")\n",
        "print(f\"Diskon : Rp{diskon:,.0f}\")\n",
        "print(f\"Total  : Rp{total:,.0f}\")\n",
        "print(\"=============================\")\n",
        "print(\"Terima kasih sudah berbelanja!\")\n"
      ],
      "metadata": {
        "colab": {
          "base_uri": "https://localhost:8080/"
        },
        "id": "AZILue-kxf8e",
        "outputId": "63d3a162-209c-457e-fe27-a1bbaa39312e"
      },
      "execution_count": 19,
      "outputs": [
        {
          "output_type": "stream",
          "name": "stdout",
          "text": [
            "=== Program Kasir Sederhana ===\n",
            "Ketik 'selesai' jika sudah selesai belanja.\n",
            "\n",
            "Masukkan nama barang: Pisang\n",
            "Masukkan harga barang: 50000\n",
            "Masukkan jumlah barang: 4\n",
            "Subtotal Pisang: Rp200,000\n",
            "\n",
            "Masukkan nama barang: Apel\n",
            "Masukkan harga barang: 30000\n",
            "Masukkan jumlah barang: 7\n",
            "Subtotal Apel: Rp210,000\n",
            "\n",
            "Masukkan nama barang: Selesai\n",
            "\n",
            "=== STRUK BELANJA ===\n",
            "Pisang (x4) - Rp50,000 = Rp200,000\n",
            "Apel (x7) - Rp30,000 = Rp210,000\n",
            "-----------------------------\n",
            "Diskon : Rp41,000\n",
            "Total  : Rp369,000\n",
            "=============================\n",
            "Terima kasih sudah berbelanja!\n"
          ]
        }
      ]
    }
  ]
}