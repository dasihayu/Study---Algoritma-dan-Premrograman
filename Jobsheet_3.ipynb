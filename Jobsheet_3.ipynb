{
  "nbformat": 4,
  "nbformat_minor": 0,
  "metadata": {
    "colab": {
      "provenance": [],
      "authorship_tag": "ABX9TyO1mVDyXBNCu7e/SZsHIg+7",
      "include_colab_link": true
    },
    "kernelspec": {
      "name": "python3",
      "display_name": "Python 3"
    },
    "language_info": {
      "name": "python"
    }
  },
  "cells": [
    {
      "cell_type": "markdown",
      "metadata": {
        "id": "view-in-github",
        "colab_type": "text"
      },
      "source": [
        "<a href=\"https://colab.research.google.com/github/dasihayu/Study---Algoritma-dan-Premrograman/blob/main/Jobsheet_3.ipynb\" target=\"_parent\"><img src=\"https://colab.research.google.com/assets/colab-badge.svg\" alt=\"Open In Colab\"/></a>"
      ]
    },
    {
      "cell_type": "markdown",
      "source": [
        "**Praktikum 1 - IF Sederhana**"
      ],
      "metadata": {
        "id": "HFpJ6DcK1RUY"
      }
    },
    {
      "cell_type": "code",
      "source": [
        "nilai = int(input(\"Masukkan nilai ujian: \"))\n",
        "\n",
        "if nilai >= 60:\n",
        "  print(\"Anda LULUS\")"
      ],
      "metadata": {
        "colab": {
          "base_uri": "https://localhost:8080/"
        },
        "id": "GrDQW7FZ1YjZ",
        "outputId": "e70e0fca-302d-4fbd-fb84-798d9e2c7a4a"
      },
      "execution_count": null,
      "outputs": [
        {
          "output_type": "stream",
          "name": "stdout",
          "text": [
            "Masukkan nilai ujian: 70\n",
            "Anda LULUS\n"
          ]
        }
      ]
    },
    {
      "cell_type": "markdown",
      "source": [
        "**Praktikum 2 - IF ELSE**"
      ],
      "metadata": {
        "id": "6r0QTl-811Ud"
      }
    },
    {
      "cell_type": "code",
      "source": [
        "nilai = int(input(\"Masukkan nilai ujian: \"))\n",
        "\n",
        "if nilai >= 60:\n",
        "  print(\"Anda LULUS\")\n",
        "else:\n",
        "  print(\"Anda TIDAK LULUS\")"
      ],
      "metadata": {
        "colab": {
          "base_uri": "https://localhost:8080/"
        },
        "id": "_AIQpQT_18fH",
        "outputId": "04e52443-e0a2-44c7-cefd-d7f9e982c372"
      },
      "execution_count": null,
      "outputs": [
        {
          "output_type": "stream",
          "name": "stdout",
          "text": [
            "Masukkan nilai ujian: 50\n",
            "Anda TIDAK LULUS\n"
          ]
        }
      ]
    },
    {
      "cell_type": "markdown",
      "source": [
        "**Praktikum 3 - If-Elif-Else (Grade)**"
      ],
      "metadata": {
        "id": "iJD19kIH2SFm"
      }
    },
    {
      "cell_type": "code",
      "source": [
        "nilai = int(input(\"Masukkan nilai ujian: \"))\n",
        "\n",
        "if nilai >= 85:\n",
        "  grade = \"A\"\n",
        "elif nilai >= 70:\n",
        "  grade = \"B\"\n",
        "elif nilai >= 55:\n",
        "  grade = \"C\"\n",
        "elif nilai >= 40:\n",
        "  grade = \"D\"\n",
        "else:\n",
        "  grade = \"E\"\n",
        "\n",
        "print(f\"Nilai Anda {nilai}, maka grade Anda = {grade}\")"
      ],
      "metadata": {
        "colab": {
          "base_uri": "https://localhost:8080/"
        },
        "id": "q-Jqapqo2ja1",
        "outputId": "d8e1f90d-b884-4cab-c119-6df1c2da3d78"
      },
      "execution_count": null,
      "outputs": [
        {
          "output_type": "stream",
          "name": "stdout",
          "text": [
            "Masukkan nilai ujian: 78\n",
            "Nilai Anda 78, maka grade Anda = B\n"
          ]
        }
      ]
    },
    {
      "cell_type": "markdown",
      "source": [
        "**Praktikum 4.1 - Nested if (Beasiswa)**"
      ],
      "metadata": {
        "id": "L0caSzT13Yc0"
      }
    },
    {
      "cell_type": "code",
      "source": [
        "ipk = float(input(\"Masukkan IPK: \"))\n",
        "sks = int(input(\"Masukkan jumlah SKS: \"))\n",
        "\n",
        "if ipk >= 3.0:\n",
        "  if sks >= 18:\n",
        "    print(\"Anda LAYAK mendapat beasiswa\")\n",
        "  else:\n",
        "    print(\"IPK memenuhi, tapi SKS kurang\")\n",
        "else:\n",
        "  print(\"Anda TIDAK layak mendapat beasiswa\")"
      ],
      "metadata": {
        "id": "LcHh9aC23uB_",
        "colab": {
          "base_uri": "https://localhost:8080/"
        },
        "outputId": "fdace62e-a639-440b-a744-fb1865f49ee6"
      },
      "execution_count": 4,
      "outputs": [
        {
          "output_type": "stream",
          "name": "stdout",
          "text": [
            "Masukkan IPK: 3.2\n",
            "Masukkan jumlah SKS: 20\n",
            "Anda LAYAK mendapat beasiswa\n"
          ]
        }
      ]
    },
    {
      "cell_type": "markdown",
      "source": [
        "**Praktikum 4.2 - Nested if (Beasiswa Gagal SKS)**"
      ],
      "metadata": {
        "id": "rypOu4SF7lWt"
      }
    },
    {
      "cell_type": "code",
      "source": [
        "ipk = float(input(\"Masukkan IPK: \"))\n",
        "sks = int(input(\"Masukkan jumlah SKS: \"))\n",
        "\n",
        "if ipk >= 3.0:\n",
        "  if sks >= 18:\n",
        "    print(\"Anda LAYAK mendapat beasiswa\")\n",
        "  else:\n",
        "    print(\"IPK memenuhi, tapi SKS kurang\")\n",
        "else:\n",
        "  print(\"Anda TIDAK layak mendapat beasiswa\")"
      ],
      "metadata": {
        "colab": {
          "base_uri": "https://localhost:8080/"
        },
        "id": "e31LV9Rq7vLI",
        "outputId": "f2093869-a077-42b1-ac3e-f702e0688a10"
      },
      "execution_count": 5,
      "outputs": [
        {
          "output_type": "stream",
          "name": "stdout",
          "text": [
            "Masukkan IPK: 3.2\n",
            "Masukkan jumlah SKS: 16\n",
            "IPK memenuhi, tapi SKS kurang\n"
          ]
        }
      ]
    },
    {
      "cell_type": "markdown",
      "source": [
        "**Praktikum 4.2 - Nested if (Beasiswa Gagal IPK)**"
      ],
      "metadata": {
        "id": "1cV1f0HP8CVD"
      }
    },
    {
      "cell_type": "code",
      "source": [
        "ipk = float(input(\"Masukkan IPK: \"))\n",
        "sks = int(input(\"Masukkan jumlah SKS: \"))\n",
        "\n",
        "if ipk >= 3.0:\n",
        "  if sks >= 18:\n",
        "    print(\"Anda LAYAK mendapat beasiswa\")\n",
        "  else:\n",
        "    print(\"IPK memenuhi, tapi SKS kurang\")\n",
        "else:\n",
        "  print(\"Anda TIDAK layak mendapat beasiswa\")"
      ],
      "metadata": {
        "colab": {
          "base_uri": "https://localhost:8080/"
        },
        "id": "uYg9u4O_8GNg",
        "outputId": "933dfdca-f211-4c51-c8e3-17ca1c55da3a"
      },
      "execution_count": 6,
      "outputs": [
        {
          "output_type": "stream",
          "name": "stdout",
          "text": [
            "Masukkan IPK: 2.8\n",
            "Masukkan jumlah SKS: 20\n",
            "Anda TIDAK layak mendapat beasiswa\n"
          ]
        }
      ]
    },
    {
      "cell_type": "markdown",
      "source": [
        "**Praktikum 5.1 - Match Case**"
      ],
      "metadata": {
        "id": "w3YFm2YT8qbQ"
      }
    },
    {
      "cell_type": "code",
      "source": [
        "menu = int(input(\"Pilih menu (1-3): \"))\n",
        "\n",
        "match menu:\n",
        "  case 1:\n",
        "    print(\"Anda memilih Nasi Goreng\")\n",
        "  case 2:\n",
        "    print(\"Anda memilih Mie Ayam\")\n",
        "  case 3:\n",
        "    print(\"Anda memilih Soto Ayam\")\n",
        "  case _:\n",
        "    print(\"Menu tidak tesedia\")"
      ],
      "metadata": {
        "colab": {
          "base_uri": "https://localhost:8080/"
        },
        "id": "PUG_vAUf8yDh",
        "outputId": "9be9c68d-a09c-45b6-a995-c620668a80b9"
      },
      "execution_count": 7,
      "outputs": [
        {
          "output_type": "stream",
          "name": "stdout",
          "text": [
            "Pilih menu (1-3): 2\n",
            "Anda memilih Mie Ayam\n"
          ]
        }
      ]
    },
    {
      "cell_type": "markdown",
      "source": [
        "**Praktikum 5.2 - Match Case (salah input)**"
      ],
      "metadata": {
        "id": "vobwT6Zk9lRq"
      }
    },
    {
      "cell_type": "code",
      "source": [
        "menu = int(input(\"Pilih menu (1-3): \"))\n",
        "\n",
        "match menu:\n",
        "  case 1:\n",
        "    print(\"Anda memilih Nasi Goreng\")\n",
        "  case 2:\n",
        "    print(\"Anda memilih Mie Ayam\")\n",
        "  case 3:\n",
        "    print(\"Anda memilih Soto Ayam\")\n",
        "  case _:\n",
        "    print(\"Menu tidak tesedia\")"
      ],
      "metadata": {
        "colab": {
          "base_uri": "https://localhost:8080/"
        },
        "id": "1JcWvHgE9p_x",
        "outputId": "c8072b2c-f059-483a-eb95-34e9f6e3754e"
      },
      "execution_count": 8,
      "outputs": [
        {
          "output_type": "stream",
          "name": "stdout",
          "text": [
            "Pilih menu (1-3): 9\n",
            "Menu tidak tesedia\n"
          ]
        }
      ]
    },
    {
      "cell_type": "markdown",
      "source": [
        "**Praktikum 6.1 - Program Kasir**"
      ],
      "metadata": {
        "id": "hwv9_Wzh95Wx"
      }
    },
    {
      "cell_type": "code",
      "source": [
        "barang = input(\"Masukkan nama barang: \")\n",
        "harga = float(input(\"Masukkan harga barang: \"))\n",
        "jumlah = int(input(\"Masukkan jumlah barang: \"))\n",
        "\n",
        "total = harga * jumlah\n",
        "\n",
        "if total >= 500000:\n",
        "  diskon = 0.2\n",
        "elif total >= 250000:\n",
        "  diskon = 0.1\n",
        "else:\n",
        "  diskon = 0\n",
        "\n",
        "bayar = total - (total * diskon)\n",
        "\n",
        "print(\"\\n===== Struk Belanja =====\")\n",
        "print(f\"Barang : {barang}\")\n",
        "print(f\"Jumlah : {jumlah}\")\n",
        "print(f\"Total  : Rp {total}\")\n",
        "print(f\"Diskon : {diskon*100}%\")\n",
        "print(f\"Bayar  : Rp {bayar}\")"
      ],
      "metadata": {
        "colab": {
          "base_uri": "https://localhost:8080/"
        },
        "id": "CVC-RHbV-D7F",
        "outputId": "ec912da6-775d-4e28-cca7-8b0a895d30d2"
      },
      "execution_count": 9,
      "outputs": [
        {
          "output_type": "stream",
          "name": "stdout",
          "text": [
            "Masukkan nama barang: Buku\n",
            "Masukkan harga barang: 60000\n",
            "Masukkan jumlah barang: 5\n",
            "\n",
            "===== Struk Belanja =====\n",
            "Barang : Buku\n",
            "Jumlah : 5\n",
            "Total  : Rp 300000.0\n",
            "Diskon : 10.0%\n",
            "Bayar  : Rp 270000.0\n"
          ]
        }
      ]
    },
    {
      "cell_type": "markdown",
      "source": [
        "**Praktikum 6.2 - Program Kasir (diskon 20%)**"
      ],
      "metadata": {
        "id": "I4CwDVf4_Y66"
      }
    },
    {
      "cell_type": "code",
      "source": [
        "barang = input(\"Masukkan nama barang: \")\n",
        "harga = float(input(\"Masukkan harga barang: \"))\n",
        "jumlah = int(input(\"Masukkan jumlah barang: \"))\n",
        "\n",
        "total = harga * jumlah\n",
        "\n",
        "if total >= 500000:\n",
        "  diskon = 0.2\n",
        "elif total >= 250000:\n",
        "  diskon = 0.1\n",
        "else:\n",
        "  diskon = 0\n",
        "\n",
        "bayar = total - (total * diskon)\n",
        "\n",
        "print(\"\\n===== Struk Belanja =====\")\n",
        "print(f\"Barang : {barang}\")\n",
        "print(f\"Jumlah : {jumlah}\")\n",
        "print(f\"Total  : Rp {total}\")\n",
        "print(f\"Diskon : {diskon*100}%\")\n",
        "print(f\"Bayar  : Rp {bayar}\")"
      ],
      "metadata": {
        "colab": {
          "base_uri": "https://localhost:8080/"
        },
        "id": "Ds0pW-rZ_b3g",
        "outputId": "c072beae-02f3-44b4-8f28-aefc1e40d8ef"
      },
      "execution_count": 10,
      "outputs": [
        {
          "output_type": "stream",
          "name": "stdout",
          "text": [
            "Masukkan nama barang: Tas\n",
            "Masukkan harga barang: 200000\n",
            "Masukkan jumlah barang: 3\n",
            "\n",
            "===== Struk Belanja =====\n",
            "Barang : Tas\n",
            "Jumlah : 3\n",
            "Total  : Rp 600000.0\n",
            "Diskon : 20.0%\n",
            "Bayar  : Rp 480000.0\n"
          ]
        }
      ]
    },
    {
      "cell_type": "markdown",
      "source": [
        "**Praktikum 6.2 - Program Kasir (tanpa diskon)**"
      ],
      "metadata": {
        "id": "_pjcHNnA_vE_"
      }
    },
    {
      "cell_type": "code",
      "source": [
        "barang = input(\"Masukkan nama barang: \")\n",
        "harga = float(input(\"Masukkan harga barang: \"))\n",
        "jumlah = int(input(\"Masukkan jumlah barang: \"))\n",
        "\n",
        "total = harga * jumlah\n",
        "\n",
        "if total >= 500000:\n",
        "  diskon = 0.2\n",
        "elif total >= 250000:\n",
        "  diskon = 0.1\n",
        "else:\n",
        "  diskon = 0\n",
        "\n",
        "bayar = total - (total * diskon)\n",
        "\n",
        "print(\"\\n===== Struk Belanja =====\")\n",
        "print(f\"Barang : {barang}\")\n",
        "print(f\"Jumlah : {jumlah}\")\n",
        "print(f\"Total  : Rp {total}\")\n",
        "print(f\"Diskon : {diskon*100}%\")\n",
        "print(f\"Bayar  : Rp {bayar}\")"
      ],
      "metadata": {
        "colab": {
          "base_uri": "https://localhost:8080/"
        },
        "id": "5HNWxiky_yCv",
        "outputId": "a4e88c70-e70a-466a-91c6-4811baac2626"
      },
      "execution_count": 11,
      "outputs": [
        {
          "output_type": "stream",
          "name": "stdout",
          "text": [
            "Masukkan nama barang: Pulpen\n",
            "Masukkan harga barang: 5000\n",
            "Masukkan jumlah barang: 10\n",
            "\n",
            "===== Struk Belanja =====\n",
            "Barang : Pulpen\n",
            "Jumlah : 10\n",
            "Total  : Rp 50000.0\n",
            "Diskon : 0%\n",
            "Bayar  : Rp 50000.0\n"
          ]
        }
      ]
    },
    {
      "cell_type": "markdown",
      "source": [
        "***PENUGASAN***"
      ],
      "metadata": {
        "id": "9omIeQH6A_i6"
      }
    },
    {
      "cell_type": "markdown",
      "source": [
        "**Cek Bilangan Positif/Negatif/Nol**"
      ],
      "metadata": {
        "id": "j65h0R_WBEhX"
      }
    },
    {
      "cell_type": "code",
      "source": [
        "# Meminta input dari pengguna\n",
        "angka = int(input(\"Masukkan sebuah bilangan bulat: \"))\n",
        "\n",
        "# Mengecek kondisi bilangan\n",
        "if angka > 0:\n",
        "    print(\"Bilangan tersebut adalah positif.\")\n",
        "elif angka < 0:\n",
        "    print(\"Bilangan tersebut adalah negatif.\")\n",
        "else:\n",
        "    print(\"Bilangan tersebut adalah nol.\")\n"
      ],
      "metadata": {
        "colab": {
          "base_uri": "https://localhost:8080/"
        },
        "id": "_ogWMfK5BDwC",
        "outputId": "41e58136-7f07-41cd-c63d-e68eef1590c3"
      },
      "execution_count": 12,
      "outputs": [
        {
          "output_type": "stream",
          "name": "stdout",
          "text": [
            "Masukkan sebuah bilangan bulat: 3\n",
            "Bilangan tersebut adalah positif.\n"
          ]
        }
      ]
    },
    {
      "cell_type": "markdown",
      "source": [
        "**Menentukan Kategori Usia**"
      ],
      "metadata": {
        "id": "mNQIB-OCB0fA"
      }
    },
    {
      "cell_type": "code",
      "source": [
        "# Meminta input umur dari pengguna\n",
        "umur = int(input(\"Masukkan umur Anda: \"))\n",
        "\n",
        "# Menentukan kategori usia\n",
        "if umur < 5:\n",
        "    print(\"Kategori: Balita\")\n",
        "elif umur <= 11:\n",
        "    print(\"Kategori: Anak-anak\")\n",
        "elif umur <= 17:\n",
        "    print(\"Kategori: Remaja\")\n",
        "elif umur <= 59:\n",
        "    print(\"Kategori: Dewasa\")\n",
        "else:\n",
        "    print(\"Kategori: Lansia\")"
      ],
      "metadata": {
        "colab": {
          "base_uri": "https://localhost:8080/"
        },
        "id": "IBjEeRv-CA1h",
        "outputId": "7ee6b6a7-70d0-4a2e-d499-ac38f430cd59"
      },
      "execution_count": 13,
      "outputs": [
        {
          "output_type": "stream",
          "name": "stdout",
          "text": [
            "Masukkan umur Anda: 56\n",
            "Kategori: Dewasa\n"
          ]
        }
      ]
    },
    {
      "cell_type": "markdown",
      "source": [
        "**Hitung Tarif Parkir**"
      ],
      "metadata": {
        "id": "JYoH2tMiCoDU"
      }
    },
    {
      "cell_type": "code",
      "source": [
        "# Meminta input durasi parkir dari pengguna dalam jam\n",
        "durasi_parkir = int(input(\"Masukkan durasi parkir (dalam jam): \"))\n",
        "\n",
        "# Menghitung tarif parkir\n",
        "if durasi_parkir <= 2:\n",
        "    tarif = 5000\n",
        "else:\n",
        "    # Tarif untuk jam-jam berikutnya\n",
        "    tarif = 5000 + (durasi_parkir - 2) * 2000\n",
        "\n",
        "# Menerapkan tarif maksimal\n",
        "if tarif > 20000:\n",
        "    tarif = 20000\n",
        "\n",
        "print(f\"Tarif parkir Anda adalah: Rp {tarif}\")"
      ],
      "metadata": {
        "colab": {
          "base_uri": "https://localhost:8080/"
        },
        "id": "cOO6-m0jCsNq",
        "outputId": "52aafb3c-e12a-4201-edd5-91cb1750be66"
      },
      "execution_count": 14,
      "outputs": [
        {
          "output_type": "stream",
          "name": "stdout",
          "text": [
            "Masukkan durasi parkir (dalam jam): 4\n",
            "Tarif parkir Anda adalah: Rp 9000\n"
          ]
        }
      ]
    },
    {
      "cell_type": "markdown",
      "source": [
        "**Cek Login Sederhana**"
      ],
      "metadata": {
        "id": "QC_yMIQdGu5N"
      }
    },
    {
      "cell_type": "code",
      "metadata": {
        "colab": {
          "base_uri": "https://localhost:8080/"
        },
        "id": "67a47a65",
        "outputId": "621588c3-5bbf-4902-ab4b-be2574eb60e8"
      },
      "source": [
        "# Meminta input username dan password dari pengguna\n",
        "username = input(\"Masukkan username: \")\n",
        "password = input(\"Masukkan password: \")\n",
        "\n",
        "# Mengecek username dan password\n",
        "if username == \"admin\" and password == \"1234\":\n",
        "    print(\"Login berhasil\")\n",
        "else:\n",
        "    print(\"Login gagal\")"
      ],
      "execution_count": 15,
      "outputs": [
        {
          "output_type": "stream",
          "name": "stdout",
          "text": [
            "Masukkan username: admin\n",
            "Masukkan password: 1234\n",
            "Login berhasil\n"
          ]
        }
      ]
    },
    {
      "cell_type": "markdown",
      "source": [
        "**One-Liner If (Cek Genap/Ganjil)**"
      ],
      "metadata": {
        "id": "6rrZPWksHJrG"
      }
    },
    {
      "cell_type": "code",
      "metadata": {
        "colab": {
          "base_uri": "https://localhost:8080/"
        },
        "id": "14dd4456",
        "outputId": "91ee06b1-8af6-42fa-fdd2-8c10027955cf"
      },
      "source": [
        "angka = int(input(\"Masukkan sebuah bilangan bulat: \"))\n",
        "\n",
        "hasil = \"Genap\" if angka % 2 == 0 else \"Ganjil\"\n",
        "\n",
        "print(f\"Bilangan {angka} adalah {hasil}.\")"
      ],
      "execution_count": 16,
      "outputs": [
        {
          "output_type": "stream",
          "name": "stdout",
          "text": [
            "Masukkan sebuah bilangan bulat: 3\n",
            "Bilangan 3 adalah Ganjil.\n"
          ]
        }
      ]
    },
    {
      "cell_type": "markdown",
      "source": [
        "**Menu Restoran dengan Match-Case**"
      ],
      "metadata": {
        "id": "hQR0ErJNHlaA"
      }
    },
    {
      "cell_type": "code",
      "metadata": {
        "colab": {
          "base_uri": "https://localhost:8080/"
        },
        "id": "4e090d33",
        "outputId": "eba2171b-055d-43d3-b48a-c2c253522e8a"
      },
      "source": [
        "# Meminta input pilihan menu dari pengguna\n",
        "menu = int(input(\"Pilih menu (1-3): \"))\n",
        "\n",
        "# Menampilkan menu berdasarkan pilihan menggunakan match-case\n",
        "match menu:\n",
        "  case 1:\n",
        "    print(\"Anda memilih Nasi Goreng\")\n",
        "  case 2:\n",
        "    print(\"Anda memilih Mie Ayam\")\n",
        "  case 3:\n",
        "    print(\"Anda memilih Soto Ayam\")\n",
        "  case _:\n",
        "    print(\"Menu tidak tesedia\")"
      ],
      "execution_count": 17,
      "outputs": [
        {
          "output_type": "stream",
          "name": "stdout",
          "text": [
            "Pilih menu (1-3): 4\n",
            "Menu tidak tesedia\n"
          ]
        }
      ]
    },
    {
      "cell_type": "markdown",
      "source": [
        "**Studi Kasus Nyata - Penentuan Diskon**"
      ],
      "metadata": {
        "id": "s26-C2REW3za"
      }
    },
    {
      "cell_type": "code",
      "metadata": {
        "colab": {
          "base_uri": "https://localhost:8080/"
        },
        "id": "03233aaa",
        "outputId": "94a45433-37b3-4954-b950-4438f5c5974a"
      },
      "source": [
        "# Meminta input nama barang, harga, dan jumlah\n",
        "barang = input(\"Masukkan nama barang: \")\n",
        "harga = float(input(\"Masukkan harga barang: \"))\n",
        "jumlah = int(input(\"Masukkan jumlah barang: \"))\n",
        "\n",
        "# Menghitung total belanja\n",
        "total = harga * jumlah\n",
        "\n",
        "# Menentukan diskon berdasarkan total belanja\n",
        "if total >= 500000:\n",
        "  diskon = 0.2\n",
        "elif total >= 250000:\n",
        "  diskon = 0.1\n",
        "else:\n",
        "  diskon = 0\n",
        "\n",
        "# Menghitung jumlah bayar setelah diskon\n",
        "bayar = total - (total * diskon)\n",
        "\n",
        "print(\"\\n===== Struk Belanja =====\")\n",
        "print(f\"Barang : {barang}\")\n",
        "print(f\"Jumlah : {jumlah}\")\n",
        "print(f\"Total  : Rp {total}\")\n",
        "print(f\"Diskon : {diskon*100}%\")\n",
        "print(f\"Bayar  : Rp {bayar}\")"
      ],
      "execution_count": 18,
      "outputs": [
        {
          "output_type": "stream",
          "name": "stdout",
          "text": [
            "Masukkan nama barang: Apel\n",
            "Masukkan harga barang: 75000\n",
            "Masukkan jumlah barang: 6\n",
            "\n",
            "===== Struk Belanja =====\n",
            "Barang : Apel\n",
            "Jumlah : 6\n",
            "Total  : Rp 450000.0\n",
            "Diskon : 10.0%\n",
            "Bayar  : Rp 405000.0\n"
          ]
        }
      ]
    }
  ]
}