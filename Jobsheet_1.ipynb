{
  "nbformat": 4,
  "nbformat_minor": 0,
  "metadata": {
    "colab": {
      "provenance": [],
      "authorship_tag": "ABX9TyMkwbV75dcHQjLGE/hyfHGl",
      "include_colab_link": true
    },
    "kernelspec": {
      "name": "python3",
      "display_name": "Python 3"
    },
    "language_info": {
      "name": "python"
    }
  },
  "cells": [
    {
      "cell_type": "markdown",
      "metadata": {
        "id": "view-in-github",
        "colab_type": "text"
      },
      "source": [
        "<a href=\"https://colab.research.google.com/github/dasihayu/Study---Algoritma-dan-Premrograman/blob/main/Jobsheet_1.ipynb\" target=\"_parent\"><img src=\"https://colab.research.google.com/assets/colab-badge.svg\" alt=\"Open In Colab\"/></a>"
      ]
    },
    {
      "cell_type": "markdown",
      "source": [
        "**Praktikum 1 - Menghitung Luas Persegi Panjang**"
      ],
      "metadata": {
        "id": "oNmQ2efX20yW"
      }
    },
    {
      "cell_type": "code",
      "source": [
        "p = int(input(\"Masukkan panjang: \"))\n",
        "l = int(input(\"Masukkan lebar: \"))\n",
        "\n",
        "luas = p * l\n",
        "print(\"Luas persegi panjang =\", luas)"
      ],
      "metadata": {
        "colab": {
          "base_uri": "https://localhost:8080/"
        },
        "id": "n4BQjzYq24Uz",
        "outputId": "8ca69880-cccd-403a-a5c9-b1c1a9ad5b00"
      },
      "execution_count": null,
      "outputs": [
        {
          "output_type": "stream",
          "name": "stdout",
          "text": [
            "Masukkan panjang: 10\n",
            "Masukkan lebar: 25\n",
            "Luas persegi panjang = 250\n"
          ]
        }
      ]
    },
    {
      "cell_type": "markdown",
      "source": [
        "**Praktikum 2 - Menghitung Luas Segitiga (Rumus Heron)**"
      ],
      "metadata": {
        "id": "C-kUNXYj8APH"
      }
    },
    {
      "cell_type": "code",
      "source": [
        "import math\n",
        "\n",
        "a = float(input(\"Masukkan sisi a: \"))\n",
        "b = float(input(\"Masukkan sisi b: \"))\n",
        "c = float(input(\"Masukkan sisi c: \"))\n",
        "\n",
        "s = (a + b + c) / 2\n",
        "luas = math.sqrt(s * (s - a) * (s - b) * (s - c))\n",
        "print(\"Luas segitiga =\", luas)"
      ],
      "metadata": {
        "colab": {
          "base_uri": "https://localhost:8080/"
        },
        "id": "BVi-2X038Cl4",
        "outputId": "24ac813f-6686-435d-a418-70400cd40fdb"
      },
      "execution_count": null,
      "outputs": [
        {
          "output_type": "stream",
          "name": "stdout",
          "text": [
            "Masukkan sisi a: 5\n",
            "Masukkan sisi b: 3\n",
            "Masukkan sisi c: 7\n",
            "Luas segitiga = 6.49519052838329\n"
          ]
        }
      ]
    },
    {
      "cell_type": "markdown",
      "source": [
        "**Praktikum 3 - Konversi Suhu Celcius ke Fahrenheit**"
      ],
      "metadata": {
        "id": "mStPHSZF8kj8"
      }
    },
    {
      "cell_type": "code",
      "source": [
        "c = float(input(\"Masukkan suhu (°C): \"))\n",
        "f = (c * 9/5) + 32\n",
        "\n",
        "print(\"Hasil konversi =\", f, \"°F\")"
      ],
      "metadata": {
        "colab": {
          "base_uri": "https://localhost:8080/"
        },
        "id": "YkeEIVlr8neH",
        "outputId": "974dc983-04a8-4c37-c5e2-4de28a78992f"
      },
      "execution_count": null,
      "outputs": [
        {
          "output_type": "stream",
          "name": "stdout",
          "text": [
            "Masukkan suhu (°C): 30\n",
            "Hasil konversi = 86.0 °F\n"
          ]
        }
      ]
    },
    {
      "cell_type": "markdown",
      "source": [
        "**Praktikum 4 - Menghitung Umur Berdasarkan Tahun Lahir**"
      ],
      "metadata": {
        "id": "bcT0BoYm9WM0"
      }
    },
    {
      "cell_type": "code",
      "source": [
        "tahun_lahir = int(input(\"Masukkan tahun lahir: \"))\n",
        "tahun_sekarang = 2025\n",
        "umur = tahun_sekarang - tahun_lahir\n",
        "print(\"Umur anda =\", umur, \"tahun\")"
      ],
      "metadata": {
        "colab": {
          "base_uri": "https://localhost:8080/"
        },
        "id": "CaPAq7c-9hhm",
        "outputId": "687a9ab6-e237-435c-d1bf-3d93bd592214"
      },
      "execution_count": null,
      "outputs": [
        {
          "output_type": "stream",
          "name": "stdout",
          "text": [
            "Masukkan tahun lahir: 2007\n",
            "Umur anda = 18 tahun\n"
          ]
        }
      ]
    },
    {
      "cell_type": "markdown",
      "source": [
        "**Praktikum 5 - Menghitung Luas Lingkaran**"
      ],
      "metadata": {
        "id": "kJROaSfB9wjb"
      }
    },
    {
      "cell_type": "code",
      "source": [
        "import math\n",
        "\n",
        "r = float(input(\"Masukkan jari-jari lingkaran: \"))\n",
        "luas = math.pi * r * r\n",
        "\n",
        "print(\"Luas lingkaran =\", luas)"
      ],
      "metadata": {
        "colab": {
          "base_uri": "https://localhost:8080/"
        },
        "id": "p9_WKnba9_ZZ",
        "outputId": "6e33b565-fc47-4127-808f-5a320eec8b3c"
      },
      "execution_count": null,
      "outputs": [
        {
          "output_type": "stream",
          "name": "stdout",
          "text": [
            "Masukkan jari-jari lingkaran: 12\n",
            "Luas lingkaran = 452.3893421169302\n"
          ]
        }
      ]
    },
    {
      "cell_type": "markdown",
      "source": [
        "**Praktikum 6 - Menjumlahkan Tiga Bilangan**"
      ],
      "metadata": {
        "id": "pq6gOL_v-jBD"
      }
    },
    {
      "cell_type": "code",
      "source": [
        "a = int(input(\"Masukkan bilangan pertama: \"))\n",
        "b = int(input(\"Masukkan bilangan kedua: \"))\n",
        "c = int(input(\"Masukkan bilangan ketiga: \"))\n",
        "\n",
        "jumlah = a + b + c\n",
        "print(\"Jumlah =\", jumlah)"
      ],
      "metadata": {
        "colab": {
          "base_uri": "https://localhost:8080/"
        },
        "id": "mVaVg4rH-li3",
        "outputId": "d2e96e3c-503b-48f6-b688-c44a1039fcd7"
      },
      "execution_count": null,
      "outputs": [
        {
          "output_type": "stream",
          "name": "stdout",
          "text": [
            "Masukkan bilangan pertama: 4\n",
            "Masukkan bilangan kedua: 5\n",
            "Masukkan bilangan ketiga: 10\n",
            "Jumlah = 19\n"
          ]
        }
      ]
    },
    {
      "cell_type": "markdown",
      "source": [
        "***PENUGASAN***"
      ],
      "metadata": {
        "id": "F2it1RtPAIvt"
      }
    },
    {
      "cell_type": "markdown",
      "source": [
        "**Menghitung Volume Balok**"
      ],
      "metadata": {
        "id": "rwqHAcsaALlY"
      }
    },
    {
      "cell_type": "code",
      "source": [
        "p = int(input(\"Masukkan panjang balok: \"))\n",
        "l = int(input(\"Masukkan lebar balok: \"))\n",
        "t = int(input(\"Masukkan tinggi balok: \"))\n",
        "\n",
        "V = p * l * t\n",
        "\n",
        "print(\"Volume balok adalah:\", V)"
      ],
      "metadata": {
        "id": "sQcntv2tARAP",
        "colab": {
          "base_uri": "https://localhost:8080/"
        },
        "outputId": "bf08ee8b-854e-4e77-ed95-736bfe9fa124"
      },
      "execution_count": null,
      "outputs": [
        {
          "output_type": "stream",
          "name": "stdout",
          "text": [
            "Masukkan panjang balok: 12\n",
            "Masukkan lebar balok: 12\n",
            "Masukkan tinggi balok: 10\n",
            "Volume balok adalah: 1440\n"
          ]
        }
      ]
    },
    {
      "cell_type": "markdown",
      "source": [
        "**Konversi Waktu (Detik ke Jam:Menit:Detik)**"
      ],
      "metadata": {
        "id": "750itNW4jVhe"
      }
    },
    {
      "cell_type": "code",
      "source": [
        "total_detik = int(input(\"Masukkan waktu dalam detik: \"))\n",
        "\n",
        "jam = total_detik // 3600\n",
        "sisa = total_detik % 3600\n",
        "menit = sisa // 60\n",
        "detik = sisa % 60\n",
        "\n",
        "print(jam, \"jam, \", menit, \"menit, \", detik, \"detik\")"
      ],
      "metadata": {
        "colab": {
          "base_uri": "https://localhost:8080/"
        },
        "id": "lFAPZ_Ooje2Z",
        "outputId": "c6911ee9-5d06-44a2-dea2-b5c8f9861296"
      },
      "execution_count": null,
      "outputs": [
        {
          "output_type": "stream",
          "name": "stdout",
          "text": [
            "Masukkan waktu dalam detik: 3770\n",
            "1 jam,  2 menit,  50 detik\n"
          ]
        }
      ]
    },
    {
      "cell_type": "markdown",
      "source": [
        "**Rata-rata Nilai Tiga Mata Kuliah**"
      ],
      "metadata": {
        "id": "Zu34jnBNro7N"
      }
    },
    {
      "cell_type": "code",
      "source": [
        "n1 = float(input(\"Masukkan nilai mata kuliah 1: \"))\n",
        "n2 = float(input(\"Masukkan nilai mata kuliah 2: \"))\n",
        "n3 = float(input(\"Masukkan nilai mata kuliah 3: \"))\n",
        "\n",
        "rataRata = (n1 + n2 + n3) / 3\n",
        "\n",
        "print(\"Rata-rata nilai =\", rataRata)\n",
        "\n",
        "if rataRata >= 60:\n",
        "    print(\"Lulus\")\n",
        "else:\n",
        "    print(\"Tidak Lulus\")"
      ],
      "metadata": {
        "colab": {
          "base_uri": "https://localhost:8080/"
        },
        "id": "2A9RfB_ZrtFH",
        "outputId": "99a8e337-d008-4b6f-c814-432deb2a6182"
      },
      "execution_count": 2,
      "outputs": [
        {
          "output_type": "stream",
          "name": "stdout",
          "text": [
            "Masukkan nilai mata kuliah 1: 90\n",
            "Masukkan nilai mata kuliah 2: 80\n",
            "Masukkan nilai mata kuliah 3: 30\n",
            "Rata-rata nilai = 66.66666666666667\n",
            "Lulus\n"
          ]
        }
      ]
    },
    {
      "cell_type": "markdown",
      "source": [
        "**Menghitung diskon belanja**"
      ],
      "metadata": {
        "id": "_6f8WQe2vNWZ"
      }
    },
    {
      "cell_type": "code",
      "source": [
        "belanja = float(input(\"Masukkan total belanja: \"))\n",
        "\n",
        "if belanja >= 500000:\n",
        "    diskon = 0.2 * belanja\n",
        "elif belanja >= 250000:\n",
        "    diskon = 0.1 * belanja\n",
        "else:\n",
        "    diskon = 0\n",
        "\n",
        "totalBayar = belanja - diskon\n",
        "\n",
        "print(\"Total bayar setelah diskon = Rp\", totalBayar)"
      ],
      "metadata": {
        "colab": {
          "base_uri": "https://localhost:8080/"
        },
        "id": "2btyjEujvRnN",
        "outputId": "a69a5640-be32-46c7-f547-79c10c444493"
      },
      "execution_count": 3,
      "outputs": [
        {
          "output_type": "stream",
          "name": "stdout",
          "text": [
            "Masukkan total belanja: 230000\n",
            "Total bayar setelah diskon = Rp 230000.0\n"
          ]
        }
      ]
    }
  ]
}