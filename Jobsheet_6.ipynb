{
  "nbformat": 4,
  "nbformat_minor": 0,
  "metadata": {
    "colab": {
      "provenance": [],
      "authorship_tag": "ABX9TyOGdJl0JbaPXrGLZ8fLuAFd",
      "include_colab_link": true
    },
    "kernelspec": {
      "name": "python3",
      "display_name": "Python 3"
    },
    "language_info": {
      "name": "python"
    }
  },
  "cells": [
    {
      "cell_type": "markdown",
      "metadata": {
        "id": "view-in-github",
        "colab_type": "text"
      },
      "source": [
        "<a href=\"https://colab.research.google.com/github/dasihayu/Study---Algoritma-dan-Premrograman/blob/main/Jobsheet_6.ipynb\" target=\"_parent\"><img src=\"https://colab.research.google.com/assets/colab-badge.svg\" alt=\"Open In Colab\"/></a>"
      ]
    },
    {
      "cell_type": "markdown",
      "source": [
        "**Praktikum 1 - Membuat dan Mengakses List 1D**"
      ],
      "metadata": {
        "id": "jN4IIev2u0px"
      }
    },
    {
      "cell_type": "code",
      "execution_count": null,
      "metadata": {
        "colab": {
          "base_uri": "https://localhost:8080/"
        },
        "id": "BFiog5H1uvdV",
        "outputId": "68e46624-5a82-4116-abb6-82ef93fbe971"
      },
      "outputs": [
        {
          "output_type": "stream",
          "name": "stdout",
          "text": [
            "Andi\n",
            "Budi\n",
            "Cici\n"
          ]
        }
      ],
      "source": [
        "mahasiswa = [\"Andi\", \"Budi\", \"Cici\"]\n",
        "\n",
        "print(mahasiswa[0])\n",
        "print(mahasiswa[1])\n",
        "print(mahasiswa[-1])"
      ]
    },
    {
      "cell_type": "markdown",
      "source": [
        "**Praktikum 2 - Update & Operasi Dasar List**"
      ],
      "metadata": {
        "id": "BmxkpO5ev0TG"
      }
    },
    {
      "cell_type": "code",
      "source": [
        "nilai = [85, 90, 78]\n",
        "\n",
        "nilai[1] = 95\n",
        "nilai.append(100)\n",
        "nilai.remove(78)\n",
        "\n",
        "print(nilai)"
      ],
      "metadata": {
        "colab": {
          "base_uri": "https://localhost:8080/"
        },
        "id": "RJpBD96Jv8JP",
        "outputId": "a17dc7c5-8dec-4384-be43-2c62d2d81daf"
      },
      "execution_count": null,
      "outputs": [
        {
          "output_type": "stream",
          "name": "stdout",
          "text": [
            "[85, 95, 100]\n"
          ]
        }
      ]
    },
    {
      "cell_type": "markdown",
      "source": [
        "**Praktikum 3 - Slicing List**"
      ],
      "metadata": {
        "id": "rgpOnaApwU7F"
      }
    },
    {
      "cell_type": "code",
      "source": [
        "nilai = [85, 90, 78, 92, 88]\n",
        "\n",
        "print(nilai[0:3])\n",
        "print(nilai[2:])\n",
        "print(nilai[:3])"
      ],
      "metadata": {
        "colab": {
          "base_uri": "https://localhost:8080/"
        },
        "id": "60MFkm5OwYV_",
        "outputId": "1c4db86f-bac5-4ea4-8ba4-7e269a783273"
      },
      "execution_count": null,
      "outputs": [
        {
          "output_type": "stream",
          "name": "stdout",
          "text": [
            "[85, 90, 78]\n",
            "[78, 92, 88]\n",
            "[85, 90, 78]\n"
          ]
        }
      ]
    },
    {
      "cell_type": "markdown",
      "source": [
        "**Praktikum 4 - List 2D (Matriks)**"
      ],
      "metadata": {
        "id": "RvJyhsKAwjxk"
      }
    },
    {
      "cell_type": "code",
      "source": [
        "matriks = [\n",
        "  [1, 2, 3],\n",
        "  [4, 5, 6],\n",
        "  [7, 8, 9]\n",
        "]\n",
        "\n",
        "print(matriks[0][0])\n",
        "print(matriks[1][2])\n",
        "print(matriks[2])"
      ],
      "metadata": {
        "colab": {
          "base_uri": "https://localhost:8080/"
        },
        "id": "2mE8ezhBwqGR",
        "outputId": "01b240c3-6b55-480f-c1a1-23723866be42"
      },
      "execution_count": null,
      "outputs": [
        {
          "output_type": "stream",
          "name": "stdout",
          "text": [
            "1\n",
            "6\n",
            "[7, 8, 9]\n"
          ]
        }
      ]
    },
    {
      "cell_type": "markdown",
      "source": [
        "**Praktikum 5 -  Operasi Pada List 2D**"
      ],
      "metadata": {
        "id": "vuLt1CFdw6Tr"
      }
    },
    {
      "cell_type": "code",
      "source": [
        "A = [[1, 2, 3], [4, 5, 6]]\n",
        "B = [[7, 8, 9], [10, 11, 12]]\n",
        "C = []\n",
        "\n",
        "for i in range(len(A)):\n",
        "  baris = []\n",
        "  for j in range(len(A[0])):\n",
        "    baris.append(A[i][j] + B[i][j])\n",
        "  C.append(baris)\n",
        "\n",
        "print(C)"
      ],
      "metadata": {
        "colab": {
          "base_uri": "https://localhost:8080/"
        },
        "id": "xHsL87sVxBpM",
        "outputId": "b683bc16-55f0-42f7-8ad0-11a617e4c570"
      },
      "execution_count": null,
      "outputs": [
        {
          "output_type": "stream",
          "name": "stdout",
          "text": [
            "[[8, 10, 12], [14, 16, 18]]\n"
          ]
        }
      ]
    },
    {
      "cell_type": "markdown",
      "source": [
        "**Praktikum 6 - Studi Kasus: Pengelolaan Nilai Mahasiswa**"
      ],
      "metadata": {
        "id": "BluW0GVexgG_"
      }
    },
    {
      "cell_type": "code",
      "source": [
        "nilai = [\n",
        "  [80, 90, 85],\n",
        "  [70, 75, 80],\n",
        "  [88, 92, 84]\n",
        "]\n",
        "\n",
        "for i, baris in enumerate(nilai, start=1):\n",
        "  rata = sum(baris) / len(baris)\n",
        "  print(f\"Rata-rata mahasiswa {i}: {rata:.2f}\")"
      ],
      "metadata": {
        "colab": {
          "base_uri": "https://localhost:8080/"
        },
        "id": "8f1hmhDhxmIO",
        "outputId": "ef0c901e-4854-4d2d-bab3-aef6ffc67186"
      },
      "execution_count": null,
      "outputs": [
        {
          "output_type": "stream",
          "name": "stdout",
          "text": [
            "Rata-rata mahasiswa 1: 85.00\n",
            "Rata-rata mahasiswa 2: 75.00\n",
            "Rata-rata mahasiswa 3: 88.00\n"
          ]
        }
      ]
    },
    {
      "cell_type": "markdown",
      "source": [
        "***PENUGASAN***"
      ],
      "metadata": {
        "id": "1MGUYun0v3tP"
      }
    },
    {
      "cell_type": "markdown",
      "source": [
        "**Akses Elemen List**"
      ],
      "metadata": {
        "id": "dAHUSVeiv8J8"
      }
    },
    {
      "cell_type": "code",
      "source": [
        "nama = [\"Andi\", \"Budi\", \"Cici\", \"Dedi\", \"Eka\"]\n",
        "\n",
        "print(\"Nama pertama:\", nama[0])\n",
        "print(\"Nama terakhir:\", nama[4])\n",
        "print(\"Nama pada indeks ke-2:\", nama[2])"
      ],
      "metadata": {
        "colab": {
          "base_uri": "https://localhost:8080/"
        },
        "id": "65n1HKu1wBOK",
        "outputId": "4b4acd6d-7eda-480f-ea2e-58718166c900"
      },
      "execution_count": 1,
      "outputs": [
        {
          "output_type": "stream",
          "name": "stdout",
          "text": [
            "Nama pertama: Andi\n",
            "Nama terakhir: Eka\n",
            "Nama pada indeks ke-2: Cici\n"
          ]
        }
      ]
    },
    {
      "cell_type": "markdown",
      "source": [
        "**Operasi Dasar List**"
      ],
      "metadata": {
        "id": "knY71QWw1AMc"
      }
    },
    {
      "cell_type": "code",
      "source": [
        "nilai = [70, 75, 80]\n",
        "\n",
        "nilai[1] = 85\n",
        "\n",
        "nilai.append(90)\n",
        "\n",
        "nilai.remove(70)\n",
        "\n",
        "print(\"Hasil akhir:\", nilai)"
      ],
      "metadata": {
        "colab": {
          "base_uri": "https://localhost:8080/"
        },
        "id": "CDoOm_jI1GG6",
        "outputId": "f6685f9b-b137-4a8f-8982-7d046c446647"
      },
      "execution_count": 2,
      "outputs": [
        {
          "output_type": "stream",
          "name": "stdout",
          "text": [
            "Hasil akhir: [85, 80, 90]\n"
          ]
        }
      ]
    },
    {
      "cell_type": "markdown",
      "source": [
        "**Slicing List**"
      ],
      "metadata": {
        "id": "vHZCCubc2DsN"
      }
    },
    {
      "cell_type": "code",
      "source": [
        "angka = [1, 2, 3, 4, 5, 6, 7, 8, 9, 10]\n",
        "\n",
        "print(\"3 elemen pertama:\", angka[:3])\n",
        "\n",
        "print(\"4 elemen terakhir:\", angka[-4:])\n",
        "\n",
        "print(\"Elemen dengan indeks genap:\")\n",
        "for i in range(0, len(angka), 2):\n",
        "    print(angka[i])"
      ],
      "metadata": {
        "colab": {
          "base_uri": "https://localhost:8080/"
        },
        "id": "NxQXGUW72G5n",
        "outputId": "c28c7d7e-df48-4b59-bcd2-23f352c312c6"
      },
      "execution_count": 3,
      "outputs": [
        {
          "output_type": "stream",
          "name": "stdout",
          "text": [
            "3 elemen pertama: [1, 2, 3]\n",
            "4 elemen terakhir: [7, 8, 9, 10]\n",
            "Elemen dengan indeks genap:\n",
            "1\n",
            "3\n",
            "5\n",
            "7\n",
            "9\n"
          ]
        }
      ]
    },
    {
      "cell_type": "markdown",
      "source": [
        "**List 2D - Matriks**"
      ],
      "metadata": {
        "id": "3tvpn1pD3cy7"
      }
    },
    {
      "cell_type": "code",
      "source": [
        "M = [\n",
        "    [1, 2, 3],\n",
        "    [4, 5, 6]\n",
        "]\n",
        "\n",
        "print(\"Baris pertama kolom kedua:\", M[0][1])\n",
        "print(\"Baris kedua kolom ketiga:\", M[1][2])\n",
        "print(\"Seluruh baris pertama:\", M[0])"
      ],
      "metadata": {
        "colab": {
          "base_uri": "https://localhost:8080/"
        },
        "id": "KoUY4JPy3ioV",
        "outputId": "bdc0f966-5a53-4420-9138-0e3617ffcbfc"
      },
      "execution_count": 4,
      "outputs": [
        {
          "output_type": "stream",
          "name": "stdout",
          "text": [
            "Baris pertama kolom kedua: 2\n",
            "Baris kedua kolom ketiga: 6\n",
            "Seluruh baris pertama: [1, 2, 3]\n"
          ]
        }
      ]
    },
    {
      "cell_type": "markdown",
      "source": [
        "**Operasi Matriks 2D**"
      ],
      "metadata": {
        "id": "qOS7HFRf4XJn"
      }
    },
    {
      "cell_type": "code",
      "source": [
        "A = [\n",
        "    [1, 2],\n",
        "    [3, 4]\n",
        "]\n",
        "\n",
        "B = [\n",
        "    [5, 6],\n",
        "    [7, 8]\n",
        "]\n",
        "\n",
        "C = [\n",
        "    [0, 0],\n",
        "    [0, 0]\n",
        "]\n",
        "\n",
        "for i in range(2):\n",
        "    for j in range(2):\n",
        "        C[i][j] = A[i][j] + B[i][j]\n",
        "\n",
        "print(\"Hasil penjumlahan matriks (C):\")\n",
        "for i in range(2):\n",
        "    print(C[i])"
      ],
      "metadata": {
        "colab": {
          "base_uri": "https://localhost:8080/"
        },
        "id": "h4GVvh2c4e_b",
        "outputId": "52baa572-fcfb-4344-f0f2-437e1457829f"
      },
      "execution_count": 5,
      "outputs": [
        {
          "output_type": "stream",
          "name": "stdout",
          "text": [
            "Hasil penjumlahan matriks (C):\n",
            "[6, 8]\n",
            "[10, 12]\n"
          ]
        }
      ]
    },
    {
      "cell_type": "markdown",
      "source": [
        "**Studi Kasus (Rata - rata Nilai Mahasiswa)**"
      ],
      "metadata": {
        "id": "UZhEasLJ5Nrj"
      }
    },
    {
      "cell_type": "code",
      "source": [
        "nilai = [\n",
        "    [75, 80, 85],\n",
        "    [60, 70, 65],\n",
        "    [90, 95, 92]\n",
        "]\n",
        "\n",
        "for i in range(len(nilai)):\n",
        "    total = sum(nilai[i])\n",
        "    rata = total / len(nilai[i])\n",
        "    print(f\"Rata-rata mahasiswa ke-{i+1}: {rata:.2f}\")"
      ],
      "metadata": {
        "colab": {
          "base_uri": "https://localhost:8080/"
        },
        "id": "kh-ZpDA95Ttj",
        "outputId": "6e0957bf-620d-422c-dbe2-4561e3fc5f42"
      },
      "execution_count": 6,
      "outputs": [
        {
          "output_type": "stream",
          "name": "stdout",
          "text": [
            "Rata-rata mahasiswa ke-1: 80.00\n",
            "Rata-rata mahasiswa ke-2: 65.00\n",
            "Rata-rata mahasiswa ke-3: 92.33\n"
          ]
        }
      ]
    },
    {
      "cell_type": "markdown",
      "source": [
        "**Studi Kasus (Data Toko)**"
      ],
      "metadata": {
        "id": "AnqI8R-Q6MSg"
      }
    },
    {
      "cell_type": "code",
      "source": [
        "stok = [\n",
        "    [\"Buku\", 20],\n",
        "    [\"Pulpen\", 35],\n",
        "    [\"Penghapus\", 15]\n",
        "]\n",
        "\n",
        "print(\"Daftar Barang dan Stok:\")\n",
        "for i in range(len(stok)):\n",
        "    print(stok[i][0], \":\", stok[i][1])\n",
        "\n",
        "maks_index = 0\n",
        "for i in range(1, len(stok)):\n",
        "    if stok[i][1] > stok[maks_index][1]:\n",
        "        maks_index = i\n",
        "\n",
        "print(\"\\nBarang dengan stok terbanyak:\", stok[maks_index][0], \"=\", stok[maks_index][1])\n"
      ],
      "metadata": {
        "colab": {
          "base_uri": "https://localhost:8080/"
        },
        "id": "Ba-7kRb56PLk",
        "outputId": "0cc077fb-9241-457c-87ee-74ca35027346"
      },
      "execution_count": 7,
      "outputs": [
        {
          "output_type": "stream",
          "name": "stdout",
          "text": [
            "Daftar Barang dan Stok:\n",
            "Buku : 20\n",
            "Pulpen : 35\n",
            "Penghapus : 15\n",
            "\n",
            "Barang dengan stok terbanyak: Pulpen = 35\n"
          ]
        }
      ]
    }
  ]
}